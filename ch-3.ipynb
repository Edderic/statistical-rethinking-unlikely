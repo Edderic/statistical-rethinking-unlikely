{
 "cells": [
  {
   "cell_type": "markdown",
   "id": "76d7863f",
   "metadata": {},
   "source": [
    "# Chapter 3"
   ]
  },
  {
   "cell_type": "code",
   "execution_count": 1,
   "id": "f9d9049d",
   "metadata": {},
   "outputs": [],
   "source": [
    "from unlikely.misc import hpdi"
   ]
  },
  {
   "cell_type": "code",
   "execution_count": 2,
   "id": "a706345b",
   "metadata": {},
   "outputs": [
    {
     "name": "stderr",
     "output_type": "stream",
     "text": [
      "100%|█████████████████████████████████████████████████████████████████████████████████████████████| 2000/2000 [00:07<00:00, 282.57it/s]\n"
     ]
    }
   ],
   "source": [
    "import numpy as np\n",
    "import pandas as pd\n",
    "from unlikely.models import Models, Model\n",
    "from unlikely.priors import Beta\n",
    "from unlikely.engine import abc_smc\n",
    "from unlikely.misc import create_images_from_data\n",
    "\n",
    "\n",
    "num_particles = 2000\n",
    "obs = {\n",
    "    'water': 6,\n",
    "    'land': 3\n",
    "}\n",
    "\n",
    "epsilons_list = [[0]]\n",
    "\n",
    "\n",
    "def distance(x,y):\n",
    "    \"\"\"\n",
    "    Compare the number of ones in one vs. the other.\n",
    "    \"\"\"\n",
    "    return abs(x['water'] - y['water'])\n",
    "\n",
    "def simulate(priors, obs):\n",
    "    \"\"\"\n",
    "    Data is binomially distributed.\n",
    "    \"\"\"\n",
    "    return {\n",
    "        'water': np.random.binomial(\n",
    "            n=1, \n",
    "            p=priors['beta'], \n",
    "            size=obs['water'] + obs['land']\n",
    "        ).sum()\n",
    "    }\n",
    "\n",
    "for row, epsilons in enumerate(epsilons_list):\n",
    "    models = Models(\n",
    "        [\n",
    "            Model(\n",
    "                name='flat prior',\n",
    "                priors=[\n",
    "                    Beta(alpha=1, beta=1, name=\"beta\"),\n",
    "                ],\n",
    "                simulate=simulate,\n",
    "                prior_model_proba=1,\n",
    "            ),\n",
    "        ]\n",
    "    )\n",
    "\n",
    "    # Update with 1st batch\n",
    "    abc_smc(\n",
    "        num_particles=num_particles,\n",
    "        epsilons=epsilons,\n",
    "        models=models,\n",
    "        obs=obs,\n",
    "        distance=distance,\n",
    "    )"
   ]
  },
  {
   "cell_type": "code",
   "execution_count": 3,
   "id": "3879d62a",
   "metadata": {},
   "outputs": [
    {
     "data": {
      "text/plain": [
       "(<Figure size 576x288 with 1 Axes>,\n",
       " <AxesSubplot:title={'center':'6 water, 3 land'}, ylabel='Density'>)"
      ]
     },
     "execution_count": 3,
     "metadata": {},
     "output_type": "execute_result"
    },
    {
     "data": {
      "image/png": "[encoded data removed]",
      "text/plain": [
       "<Figure size 576x288 with 1 Axes>"
      ]
     },
     "metadata": {
      "needs_background": "light"
     },
     "output_type": "display_data"
    }
   ],
   "source": [
    "create_images_from_data(\n",
    "    data={\n",
    "        'title': '',\n",
    "        'data': [\n",
    "            [\n",
    "                {\n",
    "                    'title': '6 water, 3 land',\n",
    "                    'data': [\n",
    "                        pd.DataFrame(models[0].prev_accepted_proposals)\n",
    "                    ]\n",
    "                }\n",
    "            ]\n",
    "        ]\n",
    "    },\n",
    "    xlim=(0,1),\n",
    "    figsize_mult=(8,4)\n",
    ")"
   ]
  },
  {
   "cell_type": "code",
   "execution_count": 4,
   "id": "ca1bb31b",
   "metadata": {},
   "outputs": [],
   "source": [
    "posterior = models[0].prev_accepted_proposals"
   ]
  },
  {
   "cell_type": "markdown",
   "id": "84bf4ae9",
   "metadata": {},
   "source": [
    "## 3E1. \n",
    "How much posterior probability lies below p = 0.2?  \n"
   ]
  },
  {
   "cell_type": "code",
   "execution_count": 5,
   "id": "c00d2fdf",
   "metadata": {},
   "outputs": [
    {
     "data": {
      "text/plain": [
       "beta    0.0005\n",
       "dtype: float64"
      ]
     },
     "execution_count": 5,
     "metadata": {},
     "output_type": "execute_result"
    }
   ],
   "source": [
    "(posterior < 0.2).sum() / posterior.shape[0]"
   ]
  },
  {
   "cell_type": "markdown",
   "id": "19b47997",
   "metadata": {},
   "source": [
    "\n",
    "## 3E2. \n",
    "How much posterior probability lies above p = 0.8?  \n"
   ]
  },
  {
   "cell_type": "code",
   "execution_count": 6,
   "id": "a352d28d",
   "metadata": {},
   "outputs": [
    {
     "data": {
      "text/plain": [
       "beta    0.091\n",
       "dtype: float64"
      ]
     },
     "execution_count": 6,
     "metadata": {},
     "output_type": "execute_result"
    }
   ],
   "source": [
    "(posterior > 0.8).sum() / posterior.shape[0]"
   ]
  },
  {
   "cell_type": "markdown",
   "id": "40096e15",
   "metadata": {},
   "source": [
    "\n",
    "## 3E3. \n",
    "\n",
    "How much posterior probability lies between p = 0.2 and p = 0.8?  "
   ]
  },
  {
   "cell_type": "code",
   "execution_count": 7,
   "id": "c4a46f92",
   "metadata": {
    "scrolled": true
   },
   "outputs": [
    {
     "data": {
      "text/plain": [
       "beta    0.9085\n",
       "dtype: float64"
      ]
     },
     "execution_count": 7,
     "metadata": {},
     "output_type": "execute_result"
    }
   ],
   "source": [
    "1 - (posterior < 0.2).sum() / posterior.shape[0] \\\n",
    "- (posterior > 0.8).sum() / posterior.shape[0]"
   ]
  },
  {
   "cell_type": "markdown",
   "id": "f2d95a0f",
   "metadata": {},
   "source": [
    "## 3E4. \n",
    "\n",
    "20% of the posterior probability lies below which value of p?  \n",
    "\n"
   ]
  },
  {
   "cell_type": "code",
   "execution_count": 8,
   "id": "57076557",
   "metadata": {},
   "outputs": [
    {
     "data": {
      "text/plain": [
       "0.5085782763883506"
      ]
     },
     "execution_count": 8,
     "metadata": {},
     "output_type": "execute_result"
    }
   ],
   "source": [
    "np.quantile(posterior, q=0.2)"
   ]
  },
  {
   "cell_type": "markdown",
   "id": "4442de6a",
   "metadata": {},
   "source": [
    "## 3E5. \n",
    "\n",
    "20% of the posterior probability lies above which value of p?  \n",
    "\n"
   ]
  },
  {
   "cell_type": "code",
   "execution_count": 9,
   "id": "849d653a",
   "metadata": {},
   "outputs": [
    {
     "data": {
      "text/plain": [
       "0.7463579272082889"
      ]
     },
     "execution_count": 9,
     "metadata": {},
     "output_type": "execute_result"
    }
   ],
   "source": [
    "np.quantile(posterior, q=0.8)"
   ]
  },
  {
   "cell_type": "markdown",
   "id": "5cc007e8",
   "metadata": {},
   "source": [
    "## 3E6. \n",
    "\n",
    "Which values of p contain the narrowest interval equal to 66% of the posterior probability?  \n",
    "\n"
   ]
  },
  {
   "cell_type": "code",
   "execution_count": 10,
   "id": "6fae2757",
   "metadata": {},
   "outputs": [
    {
     "data": {
      "text/plain": [
       "(array([0.51782717]), array([0.77913494]))"
      ]
     },
     "execution_count": 10,
     "metadata": {},
     "output_type": "execute_result"
    }
   ],
   "source": [
    "two_thirds_hpdi = hpdi(array=posterior.values, proba=0.66)\n",
    "two_thirds_hpdi"
   ]
  },
  {
   "cell_type": "markdown",
   "id": "663301a2",
   "metadata": {},
   "source": [
    "## 3E7. \n",
    "\n",
    "Which values of p contain 66% of the posterior probability, assuming equal posterior probability both below and above the interval?  \n"
   ]
  },
  {
   "cell_type": "code",
   "execution_count": 11,
   "id": "d2e627c0",
   "metadata": {},
   "outputs": [
    {
     "data": {
      "text/plain": [
       "(0.490587448876584, 0.7605368556692004)"
      ]
     },
     "execution_count": 11,
     "metadata": {},
     "output_type": "execute_result"
    }
   ],
   "source": [
    "two_thirds_within = np.quantile(posterior, 1.0/6), np.quantile(posterior, 5.0/6)\n",
    "two_thirds_within"
   ]
  },
  {
   "cell_type": "code",
   "execution_count": 12,
   "id": "cbcb3104",
   "metadata": {},
   "outputs": [
    {
     "data": {
      "text/plain": [
       "<matplotlib.lines.Line2D at 0x181db4580>"
      ]
     },
     "execution_count": 12,
     "metadata": {},
     "output_type": "execute_result"
    },
    {
     "data": {
      "image/png": "[encoded data removed]",
      "text/plain": [
       "<Figure size 576x288 with 1 Axes>"
      ]
     },
     "metadata": {
      "needs_background": "light"
     },
     "output_type": "display_data"
    }
   ],
   "source": [
    "fig, ax = create_images_from_data(\n",
    "    data={\n",
    "        'title': '',\n",
    "        'data': [\n",
    "            [\n",
    "                {\n",
    "                    'title': '6 water, 3 land',\n",
    "                    'data': [\n",
    "                        pd.DataFrame(models[0].prev_accepted_proposals)\n",
    "                    ]\n",
    "                }\n",
    "            ]\n",
    "        ]\n",
    "    },\n",
    "    xlim=(0,1),\n",
    "    figsize_mult=(8,4)\n",
    ")\n",
    "\n",
    "ax.axvline(x=two_thirds_hpdi[0][0])\n",
    "ax.axvline(x=two_thirds_hpdi[1][0])\n",
    "ax.axvline(x=two_thirds_within[0], color='r')\n",
    "ax.axvline(x=two_thirds_within[1], color='r')"
   ]
  },
  {
   "cell_type": "markdown",
   "id": "888cfe13",
   "metadata": {},
   "source": [
    "\n",
    "## 3M1. \n",
    "\n",
    "Suppose the globe tossing data had turned out to be 8 water in 15 tosses. Construct the posterior distribution, using grid approximation. Use the same flat prior as before.  \n",
    "\n"
   ]
  },
  {
   "cell_type": "code",
   "execution_count": null,
   "id": "2f46be18",
   "metadata": {},
   "outputs": [],
   "source": []
  },
  {
   "cell_type": "code",
   "execution_count": 34,
   "id": "e6474405",
   "metadata": {},
   "outputs": [
    {
     "name": "stderr",
     "output_type": "stream",
     "text": [
      "100%|███████████████████████████████████████████████████████████████████████████████████████████| 10000/10000 [00:50<00:00, 196.53it/s]\n"
     ]
    }
   ],
   "source": [
    "import numpy as np\n",
    "import pandas as pd\n",
    "from unlikely.models import Models, Model\n",
    "from unlikely.priors import Beta\n",
    "from unlikely.engine import abc_smc\n",
    "from unlikely.misc import create_images_from_data\n",
    "\n",
    "\n",
    "num_particles = 10000\n",
    "obs = {\n",
    "    'water': 8,\n",
    "    'land': 7\n",
    "}\n",
    "\n",
    "epsilons_list = [[0]]\n",
    "\n",
    "\n",
    "def distance(x,y):\n",
    "    \"\"\"\n",
    "    Compare the number of ones in one vs. the other.\n",
    "    \"\"\"\n",
    "    return abs(x['water'] - y['water'])\n",
    "\n",
    "def simulate(priors, obs):\n",
    "    \"\"\"\n",
    "    Data is binomially distributed.\n",
    "    \"\"\"\n",
    "    return {\n",
    "        'water': np.random.binomial(\n",
    "            n=1, \n",
    "            p=priors['beta'], \n",
    "            size=obs['water'] + obs['land']\n",
    "        ).sum()\n",
    "    }\n",
    "flat_prior_model = Model(\n",
    "    name='flat prior',\n",
    "    priors=[\n",
    "        Beta(alpha=1, beta=1, name=\"beta\"),\n",
    "    ],\n",
    "    simulate=simulate,\n",
    "    prior_model_proba=1,\n",
    ")\n",
    "\n",
    "for row, epsilons in enumerate(epsilons_list):\n",
    "    models = Models(\n",
    "        [\n",
    "            flat_prior_model\n",
    "        ]\n",
    "    )\n",
    "\n",
    "    # Update with 1st batch\n",
    "    abc_smc(\n",
    "        num_particles=num_particles,\n",
    "        epsilons=epsilons,\n",
    "        models=models,\n",
    "        obs=obs,\n",
    "        distance=distance,\n",
    "    )"
   ]
  },
  {
   "cell_type": "markdown",
   "id": "aba3acb1",
   "metadata": {},
   "source": [
    "## 3M2. \n",
    "\n",
    "Draw 10,000 samples from the grid approximation from above. Then use the samples to calculate the 90% HPDI for p.  \n",
    "\n"
   ]
  },
  {
   "cell_type": "code",
   "execution_count": 35,
   "id": "17377b42",
   "metadata": {},
   "outputs": [],
   "source": [
    "hdpi_90_percent = hpdi(proba=0.9, array=flat_prior_model.prev_accepted_proposals.values)"
   ]
  },
  {
   "cell_type": "code",
   "execution_count": 36,
   "id": "717ab11b",
   "metadata": {
    "scrolled": true
   },
   "outputs": [
    {
     "data": {
      "text/plain": [
       "<matplotlib.lines.Line2D at 0x184816850>"
      ]
     },
     "execution_count": 36,
     "metadata": {},
     "output_type": "execute_result"
    },
    {
     "data": {
      "image/png": "[encoded data removed]",
      "text/plain": [
       "<Figure size 576x288 with 1 Axes>"
      ]
     },
     "metadata": {
      "needs_background": "light"
     },
     "output_type": "display_data"
    }
   ],
   "source": [
    "fig, ax = create_images_from_data(\n",
    "    data={\n",
    "        'title': '',\n",
    "        'data': [\n",
    "            [\n",
    "                {\n",
    "                    'title': '8 water, 7 land',\n",
    "                    'data': [\n",
    "                        pd.DataFrame(flat_prior_model.prev_accepted_proposals)\n",
    "                    ]\n",
    "                }\n",
    "            ]\n",
    "        ]\n",
    "    },\n",
    "    xlim=(0,1),\n",
    "    figsize_mult=(8,4)\n",
    ")\n",
    "\n",
    "ax.axvline(hdpi_90_percent[0][0])\n",
    "ax.axvline(hdpi_90_percent[1][0])"
   ]
  },
  {
   "cell_type": "markdown",
   "id": "634ecbf9",
   "metadata": {},
   "source": [
    "## 3M3. \n",
    "\n",
    "Construct a posterior predictive check for this model and data. This means simulate the distribution of samples, averaging over the posterior uncertainty in p. What is the probability of observing  8 water in 15 tosses?  \n",
    "\n"
   ]
  },
  {
   "cell_type": "code",
   "execution_count": 37,
   "id": "218e974d",
   "metadata": {},
   "outputs": [
    {
     "data": {
      "text/plain": [
       "0.1469"
      ]
     },
     "execution_count": 37,
     "metadata": {},
     "output_type": "execute_result"
    }
   ],
   "source": [
    "(\n",
    "    flat_prior_model.prev_accepted_proposals.apply(\n",
    "        lambda x: np.random.binomial(n=15, p=x['beta']), axis=1\n",
    "    ) == 8\n",
    ").mean()"
   ]
  },
  {
   "cell_type": "markdown",
   "id": "68fab5e8",
   "metadata": {},
   "source": [
    "## 3M4. \n",
    "\n",
    "Using the posterior distribution constructed from the new (8/15) data, now calculate the probability of observing 6 water in 9 tosses.  "
   ]
  },
  {
   "cell_type": "code",
   "execution_count": 38,
   "id": "8306786d",
   "metadata": {},
   "outputs": [
    {
     "data": {
      "text/plain": [
       "0.1806"
      ]
     },
     "execution_count": 38,
     "metadata": {},
     "output_type": "execute_result"
    }
   ],
   "source": [
    "(\n",
    "    flat_prior_model.prev_accepted_proposals.apply(\n",
    "        lambda x: np.random.binomial(n=9, p=x['beta']), axis=1\n",
    "    ) == 6\n",
    ").mean()"
   ]
  },
  {
   "cell_type": "markdown",
   "id": "3e72dd60",
   "metadata": {},
   "source": [
    "## 3M5. \n",
    "\n",
    "Start over at 3M1, but now use a prior that is zero below p = 0.5 and a constant above p = 0.5.  This corresponds to prior information that a majority of the Earth’s surface is water. Repeat each  problem above and compare the inferences. What difference does the better prior make? If it helps,  compare inferences (using both priors) to the true value p = 0.7.  "
   ]
  },
  {
   "cell_type": "code",
   "execution_count": 39,
   "id": "d6468988",
   "metadata": {
    "scrolled": true
   },
   "outputs": [
    {
     "name": "stderr",
     "output_type": "stream",
     "text": [
      "100%|███████████████████████████████████████████████████████████████████████████████████████████| 10000/10000 [00:45<00:00, 219.72it/s]\n"
     ]
    }
   ],
   "source": [
    "import numpy as np\n",
    "import pandas as pd\n",
    "from unlikely.models import Models, Model\n",
    "from unlikely.priors import Uniform\n",
    "from unlikely.engine import abc_smc\n",
    "from unlikely.misc import create_images_from_data\n",
    "\n",
    "\n",
    "num_particles = 10000\n",
    "obs = {\n",
    "    'water': 8,\n",
    "    'land': 7\n",
    "}\n",
    "\n",
    "epsilons_list = [[0]]\n",
    "\n",
    "\n",
    "def distance(x,y):\n",
    "    \"\"\"\n",
    "    Compare the number of ones in one vs. the other.\n",
    "    \"\"\"\n",
    "    return abs(x['water'] - y['water'])\n",
    "\n",
    "def simulate(priors, obs):\n",
    "    \"\"\"\n",
    "    Data is binomially distributed.\n",
    "    \"\"\"\n",
    "    return {\n",
    "        'water': np.random.binomial(\n",
    "            n=1, \n",
    "            p=priors['uniform from 0.5 to 1'], \n",
    "            size=obs['water'] + obs['land']\n",
    "        ).sum()\n",
    "    }\n",
    "\n",
    "for row, epsilons in enumerate(epsilons_list):\n",
    "    model_uniform_from_half_to_1 = Model(\n",
    "        name='flat prior',\n",
    "        priors=[\n",
    "            Uniform(alpha=0.5, beta=1, name=\"uniform from 0.5 to 1\"),\n",
    "        ],\n",
    "        simulate=simulate,\n",
    "        prior_model_proba=1,\n",
    "    )\n",
    "    \n",
    "    models = Models(\n",
    "        [\n",
    "            model_uniform_from_half_to_1\n",
    "        ]\n",
    "    )\n",
    "\n",
    "    # Update with 1st batch\n",
    "    abc_smc(\n",
    "        num_particles=num_particles,\n",
    "        epsilons=epsilons,\n",
    "        models=models,\n",
    "        obs=obs,\n",
    "        distance=distance,\n",
    "    )"
   ]
  },
  {
   "cell_type": "code",
   "execution_count": 46,
   "id": "7735157e",
   "metadata": {},
   "outputs": [
    {
     "data": {
      "text/plain": [
       "<matplotlib.lines.Line2D at 0x184a139d0>"
      ]
     },
     "execution_count": 46,
     "metadata": {},
     "output_type": "execute_result"
    },
    {
     "data": {
      "image/png": "[encoded data removed]",
      "text/plain": [
       "<Figure size 576x288 with 1 Axes>"
      ]
     },
     "metadata": {
      "needs_background": "light"
     },
     "output_type": "display_data"
    }
   ],
   "source": [
    "fig, ax = create_images_from_data(\n",
    "    data={\n",
    "        'title': '',\n",
    "        'data': [\n",
    "            [\n",
    "                {\n",
    "                    'title': '8 water, 7 land',\n",
    "                    'data': [\n",
    "                        pd.DataFrame(flat_prior_model.prev_accepted_proposals).rename(\n",
    "                            columns={\n",
    "                                'beta': 'flat_prior_model'\n",
    "                            }\n",
    "                        ),\n",
    "                        pd.DataFrame(model_uniform_from_half_to_1.prev_accepted_proposals).rename(\n",
    "                            columns={   \n",
    "                                'beta': 'uniform_from_half_to_1'\n",
    "                            }\n",
    "                        )\n",
    "                        \n",
    "                    ]\n",
    "                }\n",
    "            ]\n",
    "        ]\n",
    "    },\n",
    "    xlim=(0,1),\n",
    "    figsize_mult=(8,4)\n",
    ")\n",
    "ax.axvline(0.7, color='r')\n"
   ]
  },
  {
   "cell_type": "markdown",
   "id": "cef34287",
   "metadata": {},
   "source": [
    "The model with the prior \"Uniform from 0.5 to 1\" puts more weight to the correct value of 0.7, compared to the model that has a flat distribution throughout 0 to 1."
   ]
  },
  {
   "cell_type": "markdown",
   "id": "8c075b92",
   "metadata": {},
   "source": [
    "## 3M6.\n",
    "\n",
    "Suppose you want to estimate the Earth’s proportion of water very precisely. Specifically, you  want the 99% percentile interval of the posterior distribution of p to be only 0.05 wide. This means  the distance between the upper and lower bound of the interval should be 0.05. How many times will  you have to toss the globe to do this?  \n",
    "\n"
   ]
  },
  {
   "cell_type": "code",
   "execution_count": 50,
   "id": "1054a59a",
   "metadata": {
    "scrolled": true
   },
   "outputs": [
    {
     "name": "stderr",
     "output_type": "stream",
     "text": [
      "100%|██████████████████████████████████████████████████████████████████████████████████████████| 10000/10000 [00:03<00:00, 2515.79it/s]\n",
      "100%|███████████████████████████████████████████████████████████████████████████████████████████| 10000/10000 [00:32<00:00, 306.62it/s]\n",
      "100%|███████████████████████████████████████████████████████████████████████████████████████████| 10000/10000 [00:43<00:00, 229.90it/s]\n",
      "100%|███████████████████████████████████████████████████████████████████████████████████████████| 10000/10000 [01:07<00:00, 149.22it/s]\n",
      "100%|████████████████████████████████████████████████████████████████████████████████████████████| 10000/10000 [01:59<00:00, 83.77it/s]\n",
      "100%|████████████████████████████████████████████████████████████████████████████████████████████| 10000/10000 [04:03<00:00, 41.06it/s]\n",
      "100%|████████████████████████████████████████████████████████████████████████████████████████████| 10000/10000 [07:51<00:00, 21.19it/s]\n",
      "100%|████████████████████████████████████████████████████████████████████████████████████████████| 10000/10000 [19:15<00:00,  8.66it/s]\n",
      "100%|██████████████████████████████████████████████████████████████████████████████████████████| 10000/10000 [2:06:17<00:00,  1.32it/s]\n"
     ]
    }
   ],
   "source": [
    "import numpy as np\n",
    "import pandas as pd\n",
    "from unlikely.models import Models, Model\n",
    "from unlikely.priors import Uniform\n",
    "from unlikely.engine import abc_smc\n",
    "from unlikely.misc import create_images_from_data\n",
    "\n",
    "\n",
    "num_particles = 10000\n",
    "obs = {\n",
    "    'water': 700,\n",
    "    'land': 300\n",
    "}\n",
    "\n",
    "epsilons_list = [[500, 250, 125, 67, 33, 15, 7, 3, 0]]\n",
    "\n",
    "\n",
    "def distance(x,y):\n",
    "    \"\"\"\n",
    "    Compare the number of ones in one vs. the other.\n",
    "    \"\"\"\n",
    "    return abs(x['water'] - y['water'])\n",
    "\n",
    "def simulate(priors, obs):\n",
    "    \"\"\"\n",
    "    Data is binomially distributed.\n",
    "    \"\"\"\n",
    "    return {\n",
    "        'water': np.random.binomial(\n",
    "            n=1, \n",
    "            p=priors['flat prior'], \n",
    "            size=obs['water'] + obs['land']\n",
    "        ).sum()\n",
    "    }\n",
    "\n",
    "for row, epsilons in enumerate(epsilons_list):\n",
    "    model_uniform_from_half_to_1 = Model(\n",
    "        name='flat prior',\n",
    "        priors=[\n",
    "            Uniform(alpha=0, beta=1, name=\"flat prior\"),\n",
    "        ],\n",
    "        simulate=simulate,\n",
    "        prior_model_proba=1,\n",
    "    )\n",
    "    \n",
    "    models = Models(\n",
    "        [\n",
    "            model_uniform_from_half_to_1\n",
    "        ]\n",
    "    )\n",
    "\n",
    "    # Update with 1st batch\n",
    "    abc_smc(\n",
    "        num_particles=num_particles,\n",
    "        epsilons=epsilons,\n",
    "        models=models,\n",
    "        obs=obs,\n",
    "        distance=distance,\n",
    "    )"
   ]
  },
  {
   "cell_type": "code",
   "execution_count": 55,
   "id": "b4602dcf",
   "metadata": {},
   "outputs": [
    {
     "data": {
      "text/plain": [
       "(0.6615890099426762, 0.7358289896042531)"
      ]
     },
     "execution_count": 55,
     "metadata": {},
     "output_type": "execute_result"
    }
   ],
   "source": [
    "hpdi(\n",
    "    array=model_uniform_from_half_to_1.prev_accepted_proposals.values.reshape(1,10000)[0],\n",
    "    proba=0.99\n",
    ")"
   ]
  },
  {
   "cell_type": "markdown",
   "id": "19697177",
   "metadata": {},
   "source": [
    "Hard. The Hard problems here all use the data below. These data\n",
    "\n",
    "These data indicate the gender (male=1, female=0) of officially reported first and second born children in 100 two-child families."
   ]
  },
  {
   "cell_type": "code",
   "execution_count": 57,
   "id": "e19d77ee",
   "metadata": {},
   "outputs": [],
   "source": [
    "birth1 = [\n",
    "    1,0,0,0,1,1,0,1,0,1,0,0,1,1,0,1,1,0,0,0,1,0,0,0,1,0,  \n",
    "    0,0,0,1,1,1,0,1,0,1,1,1,0,1,0,1,1,0,1,0,0,1,1,0,1,0,0,0,0,0,0,0,  \n",
    "    1,1,0,1,0,0,1,0,0,0,1,0,0,1,1,1,1,0,1,0,1,1,1,1,1,0,0,1,0,1,1,0,  \n",
    "    1,0,1,1,1,0,1,1,1,1\n",
    "]\n",
    "birth2 = [\n",
    "    0,1,0,1,0,1,1,1,0,0,1,1,1,1,1,0,0,1,1,1,0,0,1,1,1,0,  \n",
    "    1,1,1,0,1,1,1,0,1,0,0,1,1,1,1,0,0,1,0,1,1,1,1,1,1,1,1,1,1,1,1,1,  \n",
    "    1,1,1,0,1,1,0,1,1,0,1,1,1,0,0,0,0,0,0,1,0,0,0,1,1,0,0,1,0,0,1,1,  \n",
    "    0,0,0,1,1,1,0,0,0,0\n",
    "]\n"
   ]
  },
  {
   "cell_type": "markdown",
   "id": "2bfdd9a0",
   "metadata": {},
   "source": [
    "## 3H1. \n",
    "\n",
    "Using grid approximation, compute the posterior distribution for the probability of a birth  being a boy. Assume a uniform prior probability. Which parameter value maximizes the posterior  probability?  "
   ]
  },
  {
   "cell_type": "code",
   "execution_count": 58,
   "id": "3dc6bf2d",
   "metadata": {},
   "outputs": [],
   "source": [
    "births = pd.DataFrame({'birth_1': birth1, 'birth_2': birth2})"
   ]
  },
  {
   "cell_type": "code",
   "execution_count": 69,
   "id": "e5b5752e",
   "metadata": {},
   "outputs": [],
   "source": [
    "all_births = pd.concat(\n",
    "    [\n",
    "        births['birth_1'],\n",
    "        births['birth_2']\n",
    "    ]\n",
    ")"
   ]
  },
  {
   "cell_type": "code",
   "execution_count": 70,
   "id": "1445e318",
   "metadata": {},
   "outputs": [],
   "source": [
    "from dask.distributed import Client, LocalCluster\n",
    "local_cluster = LocalCluster(n_workers=6)\n",
    "client = Client(local_cluster)"
   ]
  },
  {
   "cell_type": "code",
   "execution_count": 74,
   "id": "480c625a",
   "metadata": {},
   "outputs": [],
   "source": [
    "import numpy as np\n",
    "import pandas as pd\n",
    "from unlikely.models import Models, Model\n",
    "from unlikely.priors import Uniform\n",
    "from unlikely.engine import abc_smc\n",
    "from unlikely.misc import create_images_from_data\n",
    "\n",
    "\n",
    "num_particles = 10000\n",
    "obs = {\n",
    "    'boy': all_births.sum(),\n",
    "    'girl': (all_births == 0).sum()\n",
    "}\n",
    "\n",
    "epsilons = [0]\n",
    "\n",
    "\n",
    "def distance(x,y):\n",
    "    \"\"\"\n",
    "    Compare the number of ones in one vs. the other.\n",
    "    \"\"\"\n",
    "    return abs(x['boy'] - y['boy'])\n",
    "\n",
    "def simulate(priors, obs):\n",
    "    \"\"\"\n",
    "    Data is binomially distributed.\n",
    "    \"\"\"\n",
    "    return {\n",
    "        'boy': np.random.binomial(\n",
    "            n=obs['boy'] + obs['girl'], \n",
    "            p=priors['flat prior'], \n",
    "        )\n",
    "    }\n",
    "\n",
    "flat_prior_model = Model(\n",
    "    name='flat prior',\n",
    "    priors=[\n",
    "        Uniform(alpha=0, beta=1, name=\"flat prior\"),\n",
    "    ],\n",
    "    simulate=simulate,\n",
    "    prior_model_proba=1,\n",
    ")\n",
    "\n",
    "models = Models(\n",
    "    [\n",
    "        flat_prior_model\n",
    "    ]\n",
    ")\n",
    "\n",
    "# Update with 1st batch\n",
    "abc_smc(\n",
    "    num_particles=num_particles,\n",
    "    epsilons=epsilons,\n",
    "    models=models,\n",
    "    obs=obs,\n",
    "    distance=distance,\n",
    "    client=client\n",
    ")"
   ]
  },
  {
   "cell_type": "code",
   "execution_count": 76,
   "id": "9374fb9f",
   "metadata": {},
   "outputs": [
    {
     "data": {
      "text/html": [
       "<div>\n",
       "<style scoped>\n",
       "    .dataframe tbody tr th:only-of-type {\n",
       "        vertical-align: middle;\n",
       "    }\n",
       "\n",
       "    .dataframe tbody tr th {\n",
       "        vertical-align: top;\n",
       "    }\n",
       "\n",
       "    .dataframe thead th {\n",
       "        text-align: right;\n",
       "    }\n",
       "</style>\n",
       "<table border=\"1\" class=\"dataframe\">\n",
       "  <thead>\n",
       "    <tr style=\"text-align: right;\">\n",
       "      <th></th>\n",
       "      <th>flat prior</th>\n",
       "    </tr>\n",
       "  </thead>\n",
       "  <tbody>\n",
       "    <tr>\n",
       "      <th>0</th>\n",
       "      <td>0.530451</td>\n",
       "    </tr>\n",
       "    <tr>\n",
       "      <th>1</th>\n",
       "      <td>0.509839</td>\n",
       "    </tr>\n",
       "    <tr>\n",
       "      <th>2</th>\n",
       "      <td>0.552423</td>\n",
       "    </tr>\n",
       "    <tr>\n",
       "      <th>3</th>\n",
       "      <td>0.560618</td>\n",
       "    </tr>\n",
       "    <tr>\n",
       "      <th>4</th>\n",
       "      <td>0.526685</td>\n",
       "    </tr>\n",
       "    <tr>\n",
       "      <th>...</th>\n",
       "      <td>...</td>\n",
       "    </tr>\n",
       "    <tr>\n",
       "      <th>9995</th>\n",
       "      <td>0.554569</td>\n",
       "    </tr>\n",
       "    <tr>\n",
       "      <th>9996</th>\n",
       "      <td>0.595773</td>\n",
       "    </tr>\n",
       "    <tr>\n",
       "      <th>9997</th>\n",
       "      <td>0.548296</td>\n",
       "    </tr>\n",
       "    <tr>\n",
       "      <th>9998</th>\n",
       "      <td>0.583567</td>\n",
       "    </tr>\n",
       "    <tr>\n",
       "      <th>9999</th>\n",
       "      <td>0.546846</td>\n",
       "    </tr>\n",
       "  </tbody>\n",
       "</table>\n",
       "<p>10000 rows × 1 columns</p>\n",
       "</div>"
      ],
      "text/plain": [
       "      flat prior\n",
       "0       0.530451\n",
       "1       0.509839\n",
       "2       0.552423\n",
       "3       0.560618\n",
       "4       0.526685\n",
       "...          ...\n",
       "9995    0.554569\n",
       "9996    0.595773\n",
       "9997    0.548296\n",
       "9998    0.583567\n",
       "9999    0.546846\n",
       "\n",
       "[10000 rows x 1 columns]"
      ]
     },
     "execution_count": 76,
     "metadata": {},
     "output_type": "execute_result"
    }
   ],
   "source": [
    "flat_prior_model.prev_accepted_proposals"
   ]
  },
  {
   "cell_type": "code",
   "execution_count": 81,
   "id": "8c1cc976",
   "metadata": {},
   "outputs": [
    {
     "data": {
      "text/plain": [
       "<matplotlib.lines.Line2D at 0x19ecd8250>"
      ]
     },
     "execution_count": 81,
     "metadata": {},
     "output_type": "execute_result"
    },
    {
     "data": {
      "image/png": "[encoded data removed]",
      "text/plain": [
       "<Figure size 576x288 with 1 Axes>"
      ]
     },
     "metadata": {
      "needs_background": "light"
     },
     "output_type": "display_data"
    }
   ],
   "source": [
    "fig, ax = create_images_from_data(\n",
    "    data={\n",
    "        'title': '',\n",
    "        'data': [\n",
    "            [\n",
    "                {\n",
    "                    'title': f'{all_births.sum()} boys, {all_births.shape[0]} births',\n",
    "                    'data': [\n",
    "                        pd.DataFrame(flat_prior_model.prev_accepted_proposals).rename(\n",
    "                            columns={\n",
    "                                'beta': 'flat_prior_model'\n",
    "                            }\n",
    "                        )\n",
    "                        \n",
    "                    ]\n",
    "                }\n",
    "            ]\n",
    "        ]\n",
    "    },\n",
    "    xlim=(0,1),\n",
    "    figsize_mult=(8,4)\n",
    ")\n",
    "ax.axvline(flat_prior_model.prev_accepted_proposals.mean()[0])\n",
    "#ax.axvline(0.7, color='r')\n"
   ]
  },
  {
   "cell_type": "code",
   "execution_count": 83,
   "id": "1b970b05",
   "metadata": {},
   "outputs": [
    {
     "name": "stdout",
     "output_type": "stream",
     "text": [
      "The maximum a posteriori (MAP) value is 0.5546362717608132\n"
     ]
    }
   ],
   "source": [
    "print(f\"The maximum a posteriori (MAP) value is {flat_prior_model.prev_accepted_proposals.mean()[0]}\")"
   ]
  },
  {
   "cell_type": "markdown",
   "id": "d3cc633c",
   "metadata": {},
   "source": [
    "## 3H2. \n",
    "\n",
    "Using the sample function, draw 10,000 random parameter values from the posterior distribution you calculated above. Use these samples to estimate the 50%, 89%, and 97% highest posterior  density intervals. "
   ]
  },
  {
   "cell_type": "code",
   "execution_count": 86,
   "id": "fed7414c",
   "metadata": {},
   "outputs": [
    {
     "data": {
      "text/plain": [
       "{'50%': (array([0.53114965]), array([0.57791444])),\n",
       " '89%': (array([0.49816926]), array([0.60932004])),\n",
       " '97%': (array([0.48025453]), array([0.62885232]))}"
      ]
     },
     "execution_count": 86,
     "metadata": {},
     "output_type": "execute_result"
    }
   ],
   "source": [
    "{\n",
    "    '50%': hpdi(proba=0.5, array=flat_prior_model.prev_accepted_proposals.values),\n",
    "    '89%': hpdi(proba=0.89, array=flat_prior_model.prev_accepted_proposals.values),\n",
    "    '97%': hpdi(proba=0.97, array=flat_prior_model.prev_accepted_proposals.values)\n",
    "}"
   ]
  },
  {
   "cell_type": "markdown",
   "id": "71f56018",
   "metadata": {},
   "source": [
    "## 3H3.\n",
    "\n",
    "Use rbinom to simulate 10,000 replicates of 200 births. You should end up with 10,000 numbers, each one a count of boys out of 200 births. Compare the distribution of predicted numbers  of boys to the actual count in the data (111 boys out of 200 births). There are many good ways to  visualize the simulations, but the dens command (part of the rethinking package) is probably the  easiest way in this case. Does it look like the model fits the data well? That is, does the distribution  of predictions include the actual observation as a central, likely outcome?"
   ]
  },
  {
   "cell_type": "code",
   "execution_count": 94,
   "id": "49197ac7",
   "metadata": {},
   "outputs": [
    {
     "data": {
      "text/plain": [
       "<matplotlib.lines.Line2D at 0x1a23f76d0>"
      ]
     },
     "execution_count": 94,
     "metadata": {},
     "output_type": "execute_result"
    },
    {
     "data": {
      "image/png": "[encoded data removed]",
      "text/plain": [
       "<Figure size 432x288 with 1 Axes>"
      ]
     },
     "metadata": {
      "needs_background": "light"
     },
     "output_type": "display_data"
    }
   ],
   "source": [
    "ax = pd.Series(\n",
    "    np.random.binomial(n=200, p=flat_prior_model.prev_accepted_proposals).reshape(1,10000)[0]\n",
    ").plot.kde()\n",
    "\n",
    "ax.axvline(111, color='r')\n",
    "          "
   ]
  },
  {
   "cell_type": "markdown",
   "id": "bde0d9e1",
   "metadata": {},
   "source": [
    "Samples from the posterior distribution look centered at 111."
   ]
  },
  {
   "cell_type": "markdown",
   "id": "1a0a7677",
   "metadata": {},
   "source": [
    "## 3H4. \n",
    "\n",
    "Now compare 10,000 counts of boys from 100 simulated first borns only to the number of boys  in the first births, birth1. How does the model look in this light? "
   ]
  },
  {
   "cell_type": "code",
   "execution_count": 100,
   "id": "ea11a71f",
   "metadata": {},
   "outputs": [
    {
     "data": {
      "text/plain": [
       "Text(0.5, 1.0, 'Posterior Prediction vs. Number of Sons')"
      ]
     },
     "execution_count": 100,
     "metadata": {},
     "output_type": "execute_result"
    },
    {
     "data": {
      "image/png": "[encoded data removed]",
      "text/plain": [
       "<Figure size 432x288 with 1 Axes>"
      ]
     },
     "metadata": {
      "needs_background": "light"
     },
     "output_type": "display_data"
    }
   ],
   "source": [
    "ax = pd.Series(\n",
    "    np.random.binomial(n=100, p=flat_prior_model.prev_accepted_proposals).reshape(1,10000)[0]\n",
    ").plot.kde()\n",
    "\n",
    "ax.axvline(np.array(birth1).sum(), color='r')\n",
    "ax.set_title(\"Posterior Prediction vs. Number of Sons\")\n",
    "          "
   ]
  },
  {
   "cell_type": "markdown",
   "id": "8c0b4d52",
   "metadata": {},
   "source": [
    "Looks like the posterior distribution is skewed to the right of the count of the first born sons."
   ]
  },
  {
   "cell_type": "markdown",
   "id": "9b099ae0",
   "metadata": {},
   "source": [
    "## 3H5. \n",
    "\n",
    "The model assumes that sex of first and second births are independent. To check this assumption, focus now on second births that followed female first borns. Compare 10,000 simulated counts  of boys to only those second births that followed girls. To do this correctly, you need to count the  number of first borns who were girls and simulate that many births, 10,000 times. Compare the  counts of boys in your simulations to the actual observed count of boys following girls. How does the  model look in this light? Any guesses what is going on in these data? "
   ]
  },
  {
   "cell_type": "code",
   "execution_count": 106,
   "id": "b86c6c10",
   "metadata": {},
   "outputs": [],
   "source": [
    "num_births_where_first_birth_was_female = births[births['birth_1'] == 0]['birth_2'].count()\n",
    "num_sons_after_female_first_birth = births[births['birth_1'] == 0]['birth_2'].sum()"
   ]
  },
  {
   "cell_type": "code",
   "execution_count": 107,
   "id": "c58d250d",
   "metadata": {},
   "outputs": [
    {
     "data": {
      "text/plain": [
       "Text(0.5, 1.0, 'Posterior Prediction vs. Number of Sons')"
      ]
     },
     "execution_count": 107,
     "metadata": {},
     "output_type": "execute_result"
    },
    {
     "data": {
      "image/png": "[encoded data removed]",
      "text/plain": [
       "<Figure size 432x288 with 1 Axes>"
      ]
     },
     "metadata": {
      "needs_background": "light"
     },
     "output_type": "display_data"
    }
   ],
   "source": [
    "ax = pd.Series(\n",
    "    np.random.binomial(\n",
    "        n=num_births_where_first_birth_was_female, \n",
    "        p=flat_prior_model.prev_accepted_proposals\n",
    "    ).reshape(1,10000)[0]\n",
    ").plot.kde()\n",
    "\n",
    "ax.axvline(num_sons_after_female_first_birth, color='r')\n",
    "ax.set_title(\"Posterior Prediction vs. Number of Sons\")\n",
    "          "
   ]
  },
  {
   "cell_type": "markdown",
   "id": "9a1c8a6d",
   "metadata": {},
   "source": [
    "The model that assumes independence says that the data is unlikely. In some cultures, there is a preference for boys. Perhaps there were forced abortions that were not recorded (or at least some way for people to preferentially select a boy for the \"second\" birth)."
   ]
  },
  {
   "cell_type": "code",
   "execution_count": null,
   "id": "0a959d08",
   "metadata": {},
   "outputs": [],
   "source": []
  }
 ],
 "metadata": {
  "kernelspec": {
   "display_name": "Python 3 (ipykernel)",
   "language": "python",
   "name": "python3"
  },
  "language_info": {
   "codemirror_mode": {
    "name": "ipython",
    "version": 3
   },
   "file_extension": ".py",
   "mimetype": "text/x-python",
   "name": "python",
   "nbconvert_exporter": "python",
   "pygments_lexer": "ipython3",
   "version": "3.9.5"
  },
  "toc": {
   "base_numbering": 1,
   "nav_menu": {},
   "number_sections": true,
   "sideBar": true,
   "skip_h1_title": false,
   "title_cell": "Table of Contents",
   "title_sidebar": "Contents",
   "toc_cell": false,
   "toc_position": {},
   "toc_section_display": true,
   "toc_window_display": false
  }
 },
 "nbformat": 4,
 "nbformat_minor": 5
}
