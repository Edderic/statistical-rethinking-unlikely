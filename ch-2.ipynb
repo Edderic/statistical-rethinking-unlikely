{
 "cells": [
  {
   "cell_type": "markdown",
   "id": "56a9d917",
   "metadata": {},
   "source": [
    "# Chapter 2"
   ]
  },
  {
   "cell_type": "markdown",
   "id": "23b1057e",
   "metadata": {},
   "source": [
    "## 2E1\n",
    "\n",
    "Which of the expressions below correspond to the statement: the probability of rain on Monday? \n",
    "\n",
    "(1) $Pr(\\text{rain})$  \n",
    "(2) $Pr(\\text{rain|Monday})$  \n",
    "(3) $Pr(\\text{Monday|rain})$  \n",
    "(4) $Pr(\\text{rain, Monday})/ Pr(\\text{Monday})$ "
   ]
  },
  {
   "cell_type": "markdown",
   "id": "e9b649ca",
   "metadata": {},
   "source": [
    "### Ans\n",
    "\n",
    "$$\n",
    "\\frac{Pr(\\text{rain, Monday})}{Pr(\\text{Monday})} = Pr(\\text{rain} \\mid \\text{Monday})\n",
    "$$\n"
   ]
  },
  {
   "cell_type": "markdown",
   "id": "05898f24",
   "metadata": {},
   "source": [
    "## 2E2\n",
    "\n",
    "Which of the following statements corresponds to the expression: $Pr(\\text{Monday} \\mid \\text{rain})$? \n",
    "\n",
    "(1) The probability of rain on Monday.  \n",
    "(2) The probability of rain, given that it is Monday.  \n",
    "(3) The probability that it is Monday, given that it is raining.  \n",
    "(4) The probability that it is Monday and that it is raining.  \n"
   ]
  },
  {
   "cell_type": "markdown",
   "id": "088fd161",
   "metadata": {},
   "source": [
    "### Ans\n",
    "\n",
    "(3) The probability that it is Monday, given that it is raining."
   ]
  },
  {
   "cell_type": "markdown",
   "id": "1146a5de",
   "metadata": {},
   "source": [
    "## 2E3\n",
    "\n",
    "2E3. Which of the expressions below correspond to the statement: _the probability that it is Monday, given that it is raining_?\n",
    "\n",
    "(1) $Pr(\\text{Monday} \\mid \\text{rain})$\n",
    "\n",
    "(2) $Pr(\\text{rain} \\mid \\text{Monday})$\n",
    "\n",
    "(3) $Pr(\\text{rain} \\mid \\text{Monday}) \\cdot Pr(\\text{Monday})$\n",
    "\n",
    "(4) $Pr(\\text{rain} \\mid \\text{Monday}) \\cdot Pr(\\text{Monday}) / Pr(\\text{rain})$\n",
    "\n",
    "(5) $Pr(\\text{Monday} \\mid \\text{rain}) \\cdot Pr(\\text{rain}) / Pr(\\text{Monday})$"
   ]
  },
  {
   "cell_type": "markdown",
   "id": "d9315409",
   "metadata": {},
   "source": [
    "### Ans"
   ]
  },
  {
   "cell_type": "markdown",
   "id": "d1657e11",
   "metadata": {},
   "source": [
    "(1) $Pr(\\text{Monday} \\mid \\text{rain})$\n",
    "\n",
    "(4) \n",
    "$$\n",
    "\\begin{equation}\n",
    "\\begin{aligned}\n",
    "Pr(\\text{rain} \\mid \\text{Monday}) \\cdot Pr(\\text{Monday}) / Pr(\\text{rain}) \n",
    "&= \\frac{Pr(\\text{rain}, \\text{Monday})}{Pr(\\text{rain})} \\\\\n",
    "&= Pr(\\text{Monday} \\mid \\text{rain}) \\\\\n",
    "\\end{aligned}\n",
    "\\end{equation}\n",
    "$$\n"
   ]
  },
  {
   "cell_type": "markdown",
   "id": "0ac6fcde",
   "metadata": {},
   "source": [
    "## 2E4.\n",
    "\n",
    "The Bayesian statistician Bruno de Finetti (1906–1985) began his 1973 book on probability theory with the declaration: “PROBABILITY DOES NOT EXIST.” The capitals appeared in the original,  so I imagine de Finetti wanted us to shout this statement. What he meant is that probability is a device for describing uncertainty from the perspective of an observer with limited knowledge; it has no  objective reality. Discuss the globe tossing example from the chapter, in light of this statement. What  does it mean to say “the probability of water is 0.7”?"
   ]
  },
  {
   "cell_type": "markdown",
   "id": "2d319bfc",
   "metadata": {},
   "source": [
    "### Ans\n",
    "\n",
    "\n",
    "In the case of the globe tossing example, it means that there is some \"true\" proportion of water to land. However, \"truth\"s like thees are usually fully known to us for many reasons (e.g. due to finite sample size, measurement error, unobserved variables, missing data, etc.). We can model our uncertainty using probability theory. Hopefully our model correctly represents truths, such as the \"true\" proportion of water to land. However, that's not guaranteed. When we say \"the probability of water is 0.7,\" colloquially, it means that we *think* that the probability of water is somewhere around 70%, given this point in time. We did not give a lot of significant digits. It might not actually be exactly 0.7, but we _think_ it is somewhere around there. It still denotes uncertainty of the observer, given what we currently know.\n"
   ]
  },
  {
   "cell_type": "markdown",
   "id": "86074f71",
   "metadata": {},
   "source": [
    "## 2M1.\n",
    "\n",
    "2M1. Recall the globe tossing model from the chapter. Compute and plot the grid approximate  posterior distribution for each of the following sets of observations. In each case, assume a uniform  prior for p.  \n",
    "\n",
    "(1) W, W, W  \n",
    "(2) W, W, W, L  \n",
    "(3) L, W, W, L, W, W, W "
   ]
  },
  {
   "cell_type": "markdown",
   "id": "89306d41",
   "metadata": {},
   "source": [
    "### Ans\n",
    "\n",
    "We'll instead use rejection sampling and ABC-SMC:"
   ]
  },
  {
   "cell_type": "code",
   "execution_count": 5,
   "id": "3ef6531f",
   "metadata": {},
   "outputs": [],
   "source": [
    "import numpy as np\n",
    "import pandas as pd\n",
    "from unlikely.models import Models, Model\n",
    "from unlikely.priors import Beta\n",
    "from unlikely.engine import abc_smc\n",
    "from unlikely.misc import create_images_from_data\n"
   ]
  },
  {
   "cell_type": "code",
   "execution_count": 18,
   "id": "e3d19ece",
   "metadata": {},
   "outputs": [
    {
     "name": "stderr",
     "output_type": "stream",
     "text": [
      "100%|████████████████████████████████████████████████████████████████████████████████████████████| 2000/2000 [00:00<00:00, 2564.22it/s]\n",
      "100%|█████████████████████████████████████████████████████████████████████████████████████████████| 2000/2000 [00:03<00:00, 616.21it/s]\n",
      "100%|█████████████████████████████████████████████████████████████████████████████████████████████| 2000/2000 [00:03<00:00, 538.59it/s]\n",
      "100%|█████████████████████████████████████████████████████████████████████████████████████████████| 2000/2000 [00:04<00:00, 416.28it/s]\n"
     ]
    }
   ],
   "source": [
    "\n",
    "\n",
    "num_particles = 2000\n",
    "obs = np.array([\n",
    "    1,1,1,\n",
    "    1,1,1,0,\n",
    "    0,1,1,0,1,1,1\n",
    "])\n",
    "epsilons = [3,2,1,0]\n",
    "\n",
    "def distance(x,y):\n",
    "    \"\"\"\n",
    "    Compare the number of ones in one vs. the other.\n",
    "    \"\"\"\n",
    "    return abs(x.sum() - y.sum())\n",
    "\n",
    "def simulate(priors, obs):\n",
    "    \"\"\"\n",
    "    Data is binomially distributed.\n",
    "    \"\"\"\n",
    "    return np.random.binomial(n=1, p=priors['beta'], size=len(obs))\n",
    "\n",
    "data_to_display = []\n",
    "\n",
    "models = Models(\n",
    "    [\n",
    "        Model(\n",
    "            name='flat prior',\n",
    "            priors=[\n",
    "                Beta(alpha=1, beta=1, name=\"beta\"),\n",
    "            ],\n",
    "            simulate=simulate,\n",
    "            prior_model_proba=1,\n",
    "        ),\n",
    "    ]\n",
    ")\n",
    "\n",
    "# Update with 1st batch\n",
    "abc_smc(\n",
    "    num_particles=num_particles,\n",
    "    epsilons=epsilons,\n",
    "    models=models,\n",
    "    obs=obs[:3],\n",
    "    distance=distance,\n",
    ")\n",
    "\n",
    "data_to_display.append(\n",
    "    pd.DataFrame(models[0].prev_accepted_proposals).rename(columns={'beta': 'after batch 1'})\n",
    ")\n"
   ]
  },
  {
   "cell_type": "code",
   "execution_count": 19,
   "id": "4dee7360",
   "metadata": {},
   "outputs": [
    {
     "name": "stderr",
     "output_type": "stream",
     "text": [
      "100%|████████████████████████████████████████████████████████████████████████████████████████████| 2000/2000 [00:00<00:00, 4068.66it/s]\n",
      "100%|█████████████████████████████████████████████████████████████████████████████████████████████| 2000/2000 [00:02<00:00, 734.16it/s]\n",
      "100%|█████████████████████████████████████████████████████████████████████████████████████████████| 2000/2000 [00:02<00:00, 695.76it/s]\n",
      "100%|█████████████████████████████████████████████████████████████████████████████████████████████| 2000/2000 [00:04<00:00, 450.53it/s]\n",
      "100%|████████████████████████████████████████████████████████████████████████████████████████████| 2000/2000 [00:00<00:00, 4054.15it/s]\n",
      "100%|█████████████████████████████████████████████████████████████████████████████████████████████| 2000/2000 [00:02<00:00, 697.52it/s]\n",
      "100%|█████████████████████████████████████████████████████████████████████████████████████████████| 2000/2000 [00:03<00:00, 603.47it/s]\n",
      "100%|█████████████████████████████████████████████████████████████████████████████████████████████| 2000/2000 [00:05<00:00, 348.42it/s]\n"
     ]
    }
   ],
   "source": [
    "\n",
    "\n",
    "# The posterior distribution becomes the prior\n",
    "models.use_distribution_from_samples()\n",
    "\n",
    "# Update with 2nd batch\n",
    "abc_smc(\n",
    "    num_particles=num_particles,\n",
    "    epsilons=epsilons,\n",
    "    models=models,\n",
    "    obs=obs[3:7],\n",
    "    distance=distance,\n",
    ")\n",
    "\n",
    "data_to_display.append(\n",
    "    pd.DataFrame(models[0].prev_accepted_proposals).rename(columns={'beta': 'after batch 2'})\n",
    ")\n",
    "\n",
    "# The posterior distribution becomes the prior\n",
    "models.use_distribution_from_samples()\n",
    "\n",
    "# Update with 3rd batch\n",
    "abc_smc(\n",
    "    num_particles=num_particles,\n",
    "    epsilons=epsilons,\n",
    "    models=models,\n",
    "    obs=obs[7:],\n",
    "    distance=distance,\n",
    ")\n",
    "\n",
    "data_to_display.append(\n",
    "    pd.DataFrame(models[0].prev_accepted_proposals).rename(columns={'beta': 'after batch 3'})\n",
    ")\n",
    "\n"
   ]
  },
  {
   "cell_type": "code",
   "execution_count": 28,
   "id": "a964ae5b",
   "metadata": {},
   "outputs": [
    {
     "name": "stderr",
     "output_type": "stream",
     "text": [
      "100%|████████████████████████████████████████████████████████████████████████████████████████████| 2000/2000 [00:01<00:00, 1175.53it/s]\n",
      "100%|█████████████████████████████████████████████████████████████████████████████████████████████| 2000/2000 [00:03<00:00, 533.23it/s]\n",
      "100%|█████████████████████████████████████████████████████████████████████████████████████████████| 2000/2000 [00:04<00:00, 421.32it/s]\n",
      "100%|█████████████████████████████████████████████████████████████████████████████████████████████| 2000/2000 [00:09<00:00, 209.96it/s]\n"
     ]
    }
   ],
   "source": [
    "models_full_batch = Models(\n",
    "    [\n",
    "        Model(\n",
    "            name='flat prior',\n",
    "            priors=[\n",
    "                Beta(alpha=1, beta=1, name=\"beta\"),\n",
    "            ],\n",
    "            simulate=simulate,\n",
    "            prior_model_proba=1,\n",
    "        ),\n",
    "    ]\n",
    ")\n",
    "\n",
    "# Update full batch\n",
    "abc_smc(\n",
    "    num_particles=num_particles,\n",
    "    epsilons=epsilons,\n",
    "    models=models_full_batch,\n",
    "    obs=obs,\n",
    "    distance=distance,\n",
    ")"
   ]
  },
  {
   "cell_type": "code",
   "execution_count": 35,
   "id": "8ecd78d7",
   "metadata": {},
   "outputs": [
    {
     "data": {
      "text/plain": [
       "(<Figure size 576x576 with 4 Axes>,\n",
       " array([<AxesSubplot:title={'center':'obs: [1 1 1]'}, ylabel='Density'>,\n",
       "        <AxesSubplot:title={'center':'after [1 1 1 0]'}, ylabel='Density'>,\n",
       "        <AxesSubplot:title={'center':'after [0 1 1 0 1 1 1]'}, ylabel='Density'>,\n",
       "        <AxesSubplot:title={'center':'Full batch'}, ylabel='Density'>],\n",
       "       dtype=object))"
      ]
     },
     "execution_count": 35,
     "metadata": {},
     "output_type": "execute_result"
    },
    {
     "data": {
      "image/png": "[encoded data removed]",
      "text/plain": [
       "<Figure size 576x576 with 4 Axes>"
      ]
     },
     "metadata": {
      "needs_background": "light"
     },
     "output_type": "display_data"
    }
   ],
   "source": [
    "create_images_from_data(\n",
    "    data={\n",
    "        'title': '3 batch updates',\n",
    "        'data': [\n",
    "            [\n",
    "                {\n",
    "                    'title': f\"obs: {obs[:3]}\",\n",
    "                    'data': [\n",
    "                        data_to_display[0],\n",
    "                        pd.DataFrame({\n",
    "                            'reference': np.random.beta(\n",
    "                                obs[:3].sum() + 1, \n",
    "                                len(obs[:3]) - obs[:3].sum() + 1,\n",
    "                                num_particles\n",
    "                            )\n",
    "                        })\n",
    "                            \n",
    "                    ]\n",
    "                },\n",
    "                {\n",
    "                    'title': f\"after {obs[3:7]}\",\n",
    "                    'data': [\n",
    "                        data_to_display[1],\n",
    "                        pd.DataFrame({\n",
    "                            'reference': np.random.beta(\n",
    "                                obs[:7].sum() + 1, \n",
    "                                len(obs[:7]) - obs[:7].sum() + 1,\n",
    "                                num_particles\n",
    "                            )\n",
    "                        })\n",
    "                    ]\n",
    "                },\n",
    "                {\n",
    "                    'title': f\"after {obs[7:]}\",\n",
    "                    'data': [\n",
    "                        data_to_display[2],\n",
    "                        pd.DataFrame({\n",
    "                            'reference': np.random.beta(\n",
    "                                obs.sum() + 1, \n",
    "                                len(obs) - obs.sum() + 1,\n",
    "                                num_particles\n",
    "                            )\n",
    "                        })\n",
    "                    ]\n",
    "                },\n",
    "                {\n",
    "                    'title': \"Full batch\",\n",
    "                    'data': [\n",
    "                        pd.DataFrame(\n",
    "                            models_full_batch[0].prev_accepted_proposals\n",
    "                        ).rename(\n",
    "                            columns={'beta': 'full batch'}\n",
    "                        ),\n",
    "                        pd.DataFrame({\n",
    "                            'reference': np.random.beta(\n",
    "                                obs.sum() + 1, \n",
    "                                len(obs) - obs.sum() + 1,\n",
    "                                num_particles\n",
    "                            )\n",
    "                        })\n",
    "                    ]\n",
    "                }\n",
    "            ]\n",
    "        ]\n",
    "    },\n",
    "    xlim=(0,1),\n",
    "    figsize_mult=(2,8)\n",
    ")"
   ]
  },
  {
   "cell_type": "markdown",
   "id": "ff9fa925",
   "metadata": {},
   "source": [
    "Bayesian updating with the full batch seems to be more accurate than updating through mini batches. Mini batch updating leads to overinflated posterior distributions."
   ]
  },
  {
   "cell_type": "code",
   "execution_count": null,
   "id": "bdd08361",
   "metadata": {},
   "outputs": [],
   "source": []
  }
 ],
 "metadata": {
  "kernelspec": {
   "display_name": "Python 3 (ipykernel)",
   "language": "python",
   "name": "python3"
  },
  "language_info": {
   "codemirror_mode": {
    "name": "ipython",
    "version": 3
   },
   "file_extension": ".py",
   "mimetype": "text/x-python",
   "name": "python",
   "nbconvert_exporter": "python",
   "pygments_lexer": "ipython3",
   "version": "3.9.5"
  },
  "toc": {
   "base_numbering": 1,
   "nav_menu": {},
   "number_sections": true,
   "sideBar": true,
   "skip_h1_title": false,
   "title_cell": "Table of Contents",
   "title_sidebar": "Contents",
   "toc_cell": false,
   "toc_position": {},
   "toc_section_display": true,
   "toc_window_display": false
  }
 },
 "nbformat": 4,
 "nbformat_minor": 5
}
