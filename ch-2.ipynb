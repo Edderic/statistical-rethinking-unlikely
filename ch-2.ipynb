{
 "cells": [
  {
   "cell_type": "markdown",
   "id": "56a9d917",
   "metadata": {},
   "source": [
    "# Chapter 2"
   ]
  },
  {
   "cell_type": "markdown",
   "id": "23b1057e",
   "metadata": {},
   "source": [
    "## 2E1\n",
    "\n",
    "Which of the expressions below correspond to the statement: the probability of rain on Monday? \n",
    "\n",
    "(1) $Pr(\\text{rain})$  \n",
    "(2) $Pr(\\text{rain|Monday})$  \n",
    "(3) $Pr(\\text{Monday|rain})$  \n",
    "(4) $Pr(\\text{rain, Monday})/ Pr(\\text{Monday})$ "
   ]
  },
  {
   "cell_type": "markdown",
   "id": "e9b649ca",
   "metadata": {},
   "source": [
    "### Ans\n",
    "\n",
    "$$\n",
    "\\frac{Pr(\\text{rain, Monday})}{Pr(\\text{Monday})} = Pr(\\text{rain} \\mid \\text{Monday})\n",
    "$$\n"
   ]
  },
  {
   "cell_type": "markdown",
   "id": "05898f24",
   "metadata": {},
   "source": [
    "## 2E2\n",
    "\n",
    "Which of the following statements corresponds to the expression: $Pr(\\text{Monday} \\mid \\text{rain})$? \n",
    "\n",
    "(1) The probability of rain on Monday.  \n",
    "(2) The probability of rain, given that it is Monday.  \n",
    "(3) The probability that it is Monday, given that it is raining.  \n",
    "(4) The probability that it is Monday and that it is raining.  \n"
   ]
  },
  {
   "cell_type": "markdown",
   "id": "088fd161",
   "metadata": {},
   "source": [
    "### Ans\n",
    "\n",
    "(3) The probability that it is Monday, given that it is raining."
   ]
  },
  {
   "cell_type": "markdown",
   "id": "1146a5de",
   "metadata": {},
   "source": [
    "## 2E3\n",
    "\n",
    "2E3. Which of the expressions below correspond to the statement: _the probability that it is Monday, given that it is raining_?\n",
    "\n",
    "(1) $Pr(\\text{Monday} \\mid \\text{rain})$\n",
    "\n",
    "(2) $Pr(\\text{rain} \\mid \\text{Monday})$\n",
    "\n",
    "(3) $Pr(\\text{rain} \\mid \\text{Monday}) \\cdot Pr(\\text{Monday})$\n",
    "\n",
    "(4) $Pr(\\text{rain} \\mid \\text{Monday}) \\cdot Pr(\\text{Monday}) / Pr(\\text{rain})$\n",
    "\n",
    "(5) $Pr(\\text{Monday} \\mid \\text{rain}) \\cdot Pr(\\text{rain}) / Pr(\\text{Monday})$"
   ]
  },
  {
   "cell_type": "markdown",
   "id": "d9315409",
   "metadata": {},
   "source": [
    "### Ans"
   ]
  },
  {
   "cell_type": "markdown",
   "id": "d1657e11",
   "metadata": {},
   "source": [
    "(1) $Pr(\\text{Monday} \\mid \\text{rain})$\n",
    "\n",
    "(4) \n",
    "$$\n",
    "\\begin{equation}\n",
    "\\begin{aligned}\n",
    "Pr(\\text{rain} \\mid \\text{Monday}) \\cdot Pr(\\text{Monday}) / Pr(\\text{rain}) \n",
    "&= \\frac{Pr(\\text{rain}, \\text{Monday})}{Pr(\\text{rain})} \\\\\n",
    "&= Pr(\\text{Monday} \\mid \\text{rain}) \\\\\n",
    "\\end{aligned}\n",
    "\\end{equation}\n",
    "$$\n"
   ]
  },
  {
   "cell_type": "markdown",
   "id": "0ac6fcde",
   "metadata": {},
   "source": [
    "## 2E4.\n",
    "\n",
    "The Bayesian statistician Bruno de Finetti (1906–1985) began his 1973 book on probability theory with the declaration: “PROBABILITY DOES NOT EXIST.” The capitals appeared in the original,  so I imagine de Finetti wanted us to shout this statement. What he meant is that probability is a device for describing uncertainty from the perspective of an observer with limited knowledge; it has no  objective reality. Discuss the globe tossing example from the chapter, in light of this statement. What  does it mean to say “the probability of water is 0.7”?"
   ]
  },
  {
   "cell_type": "markdown",
   "id": "2d319bfc",
   "metadata": {},
   "source": [
    "### Ans\n",
    "\n",
    "\n",
    "In the case of the globe tossing example, it means that there is some \"true\" proportion of water to land. However, \"truth\"s like thees are usually fully known to us for many reasons (e.g. due to finite sample size, measurement error, unobserved variables, missing data, etc.). We can model our uncertainty using probability theory. Hopefully our model correctly represents truths, such as the \"true\" proportion of water to land. However, that's not guaranteed. When we say \"the probability of water is 0.7,\" colloquially, it means that we *think* that the probability of water is somewhere around 70%, given this point in time. We did not give a lot of significant digits. It might not actually be exactly 0.7, but we _think_ it is somewhere around there. It still denotes uncertainty of the observer, given what we currently know.\n"
   ]
  },
  {
   "cell_type": "markdown",
   "id": "86074f71",
   "metadata": {},
   "source": [
    "## 2M1.\n",
    "\n",
    "2M1. Recall the globe tossing model from the chapter. Compute and plot the grid approximate  posterior distribution for each of the following sets of observations. In each case, assume a uniform  prior for p.  \n",
    "\n",
    "(1) W, W, W  \n",
    "(2) W, W, W, L  \n",
    "(3) L, W, W, L, W, W, W "
   ]
  },
  {
   "cell_type": "markdown",
   "id": "89306d41",
   "metadata": {},
   "source": [
    "### Ans\n",
    "\n",
    "We'll instead use rejection sampling and ABC-SMC:"
   ]
  },
  {
   "cell_type": "code",
   "execution_count": 8,
   "id": "6dc2e2f0",
   "metadata": {},
   "outputs": [
    {
     "name": "stderr",
     "output_type": "stream",
     "text": [
      "100%|█████████████████████████████████████████████████████████████████████████████████████████████| 2000/2000 [00:02<00:00, 728.91it/s]\n",
      "100%|████████████████████████████████████████████████████████████████████████████████████████████| 2000/2000 [00:00<00:00, 3035.33it/s]\n",
      "100%|████████████████████████████████████████████████████████████████████████████████████████████| 2000/2000 [00:00<00:00, 2486.25it/s]\n",
      "100%|█████████████████████████████████████████████████████████████████████████████████████████████| 2000/2000 [00:09<00:00, 208.09it/s]\n",
      "100%|████████████████████████████████████████████████████████████████████████████████████████████| 2000/2000 [00:00<00:00, 2903.67it/s]\n",
      "100%|█████████████████████████████████████████████████████████████████████████████████████████████| 2000/2000 [00:03<00:00, 635.91it/s]\n",
      "100%|█████████████████████████████████████████████████████████████████████████████████████████████| 2000/2000 [00:03<00:00, 551.56it/s]\n",
      "100%|█████████████████████████████████████████████████████████████████████████████████████████████| 2000/2000 [00:04<00:00, 425.76it/s]\n",
      "100%|████████████████████████████████████████████████████████████████████████████████████████████| 2000/2000 [00:00<00:00, 8373.95it/s]\n",
      "100%|█████████████████████████████████████████████████████████████████████████████████████████████| 2000/2000 [00:02<00:00, 845.78it/s]\n",
      "100%|█████████████████████████████████████████████████████████████████████████████████████████████| 2000/2000 [00:02<00:00, 821.84it/s]\n",
      "100%|█████████████████████████████████████████████████████████████████████████████████████████████| 2000/2000 [00:03<00:00, 576.56it/s]\n",
      "100%|████████████████████████████████████████████████████████████████████████████████████████████| 2000/2000 [00:00<00:00, 8568.57it/s]\n",
      "100%|█████████████████████████████████████████████████████████████████████████████████████████████| 2000/2000 [00:02<00:00, 794.47it/s]\n",
      "100%|█████████████████████████████████████████████████████████████████████████████████████████████| 2000/2000 [00:03<00:00, 665.52it/s]\n",
      "100%|█████████████████████████████████████████████████████████████████████████████████████████████| 2000/2000 [00:04<00:00, 404.35it/s]\n",
      "100%|████████████████████████████████████████████████████████████████████████████████████████████| 2000/2000 [00:01<00:00, 1306.28it/s]\n",
      "100%|█████████████████████████████████████████████████████████████████████████████████████████████| 2000/2000 [00:03<00:00, 514.48it/s]\n",
      "100%|█████████████████████████████████████████████████████████████████████████████████████████████| 2000/2000 [00:05<00:00, 395.45it/s]\n",
      "100%|█████████████████████████████████████████████████████████████████████████████████████████████| 2000/2000 [00:10<00:00, 185.65it/s]\n"
     ]
    },
    {
     "data": {
      "text/plain": [
       "(<Figure size 576x576 with 4 Axes>,\n",
       " array([<AxesSubplot:title={'center':'obs: [1 1 1]'}, ylabel='Density'>,\n",
       "        <AxesSubplot:title={'center':'after [1 1 1 0]'}, ylabel='Density'>,\n",
       "        <AxesSubplot:title={'center':'after [0 1 1 0 1 1 1]'}, ylabel='Density'>,\n",
       "        <AxesSubplot:title={'center':'Full batch'}, ylabel='Density'>],\n",
       "       dtype=object))"
      ]
     },
     "execution_count": 8,
     "metadata": {},
     "output_type": "execute_result"
    },
    {
     "data": {
      "image/png": "[encoded data removed]",
      "text/plain": [
       "<Figure size 576x576 with 4 Axes>"
      ]
     },
     "metadata": {
      "needs_background": "light"
     },
     "output_type": "display_data"
    }
   ],
   "source": [
    "import numpy as np\n",
    "import pandas as pd\n",
    "from unlikely.models import Models, Model\n",
    "from unlikely.priors import Beta\n",
    "from unlikely.engine import abc_smc\n",
    "from unlikely.misc import create_images_from_data\n",
    "\n",
    "\n",
    "num_particles = 2000\n",
    "obs = np.array([\n",
    "    1,1,1,\n",
    "    1,1,1,0,\n",
    "    0,1,1,0,1,1,1\n",
    "])\n",
    "\n",
    "epsilons_list = [[0], [3,2,1,0]]\n",
    "\n",
    "\n",
    "def distance(x,y):\n",
    "    \"\"\"\n",
    "    Compare the number of ones in one vs. the other.\n",
    "    \"\"\"\n",
    "    return abs(x.sum() - y.sum())\n",
    "\n",
    "def simulate(priors, obs):\n",
    "    \"\"\"\n",
    "    Data is binomially distributed.\n",
    "    \"\"\"\n",
    "    return np.random.binomial(n=1, p=priors['beta'], size=len(obs))\n",
    "\n",
    "\n",
    "data_to_display = [\n",
    "    [\n",
    "        {\n",
    "            'title': f\"obs: {obs[:3]}\",\n",
    "            'data': [\n",
    "                pd.DataFrame({\n",
    "                    'reference': np.random.beta(\n",
    "                        obs[:3].sum() + 1, \n",
    "                        len(obs[:3]) - obs[:3].sum() + 1,\n",
    "                        num_particles\n",
    "                    )\n",
    "                })\n",
    "\n",
    "            ]\n",
    "        },\n",
    "        {\n",
    "            'title': f\"after {obs[3:7]}\",\n",
    "            'data': [\n",
    "                pd.DataFrame({\n",
    "                    'reference': np.random.beta(\n",
    "                        obs[:7].sum() + 1, \n",
    "                        len(obs[:7]) - obs[:7].sum() + 1,\n",
    "                        num_particles\n",
    "                    )\n",
    "                })\n",
    "            ]\n",
    "        },\n",
    "        {\n",
    "            'title': f\"after {obs[7:]}\",\n",
    "            'data': [\n",
    "                pd.DataFrame({\n",
    "                    'reference': np.random.beta(\n",
    "                        obs.sum() + 1, \n",
    "                        len(obs) - obs.sum() + 1,\n",
    "                        num_particles\n",
    "                    )\n",
    "                })\n",
    "            ]\n",
    "        },\n",
    "        {\n",
    "            'title': \"Full batch\",\n",
    "            'data': [\n",
    "                pd.DataFrame({\n",
    "                    'reference': np.random.beta(\n",
    "                        obs.sum() + 1, \n",
    "                        len(obs) - obs.sum() + 1,\n",
    "                        num_particles\n",
    "                    )\n",
    "                })\n",
    "            ]\n",
    "        }\n",
    "    ]\n",
    "]\n",
    "\n",
    "\n",
    "for row, epsilons in enumerate(epsilons_list):\n",
    "    models = Models(\n",
    "        [\n",
    "            Model(\n",
    "                name='flat prior',\n",
    "                priors=[\n",
    "                    Beta(alpha=1, beta=1, name=\"beta\"),\n",
    "                ],\n",
    "                simulate=simulate,\n",
    "                prior_model_proba=1,\n",
    "            ),\n",
    "        ]\n",
    "    )\n",
    "\n",
    "    # Update with 1st batch\n",
    "    abc_smc(\n",
    "        num_particles=num_particles,\n",
    "        epsilons=epsilons,\n",
    "        models=models,\n",
    "        obs=obs[:3],\n",
    "        distance=distance,\n",
    "    )\n",
    "\n",
    "    data_to_display[0][0]['data'].append(\n",
    "        pd.DataFrame(models[0].prev_accepted_proposals).rename(\n",
    "            columns={'beta': f'eps: {epsilons}'}\n",
    "        )\n",
    "    )\n",
    "\n",
    "\n",
    "    # The posterior distribution becomes the prior\n",
    "    models.use_distribution_from_samples()\n",
    "\n",
    "    # Update with 2nd batch\n",
    "    abc_smc(\n",
    "        num_particles=num_particles,\n",
    "        epsilons=epsilons,\n",
    "        models=models,\n",
    "        obs=obs[3:7],\n",
    "        distance=distance,\n",
    "    )\n",
    "\n",
    "    # The posterior distribution becomes the prior\n",
    "    models.use_distribution_from_samples()\n",
    "    \n",
    "    data_to_display[0][1]['data'].append(\n",
    "        pd.DataFrame(\n",
    "            models[0].prev_accepted_proposals).rename(\n",
    "            columns={'beta': f'eps: {epsilons}'}\n",
    "        )\n",
    "    )\n",
    "\n",
    "    # Update with 3rd batch\n",
    "    abc_smc(\n",
    "        num_particles=num_particles,\n",
    "        epsilons=epsilons,\n",
    "        models=models,\n",
    "        obs=obs[7:],\n",
    "        distance=distance,\n",
    "    )\n",
    "\n",
    "    data_to_display[0][2]['data'].append(\n",
    "        pd.DataFrame(\n",
    "            models[0].prev_accepted_proposals).rename(\n",
    "            columns={'beta': f'eps: {epsilons}'}\n",
    "        )\n",
    "    )\n",
    "\n",
    "    models_full_batch = Models(\n",
    "        [\n",
    "            Model(\n",
    "                name='flat prior',\n",
    "                priors=[\n",
    "                    Beta(alpha=1, beta=1, name=\"beta\"),\n",
    "                ],\n",
    "                simulate=simulate,\n",
    "                prior_model_proba=1,\n",
    "            ),\n",
    "        ]\n",
    "    )\n",
    "\n",
    "    # Update full batch\n",
    "    abc_smc(\n",
    "        num_particles=num_particles,\n",
    "        epsilons=epsilons,\n",
    "        models=models_full_batch,\n",
    "        obs=obs,\n",
    "        distance=distance,\n",
    "    )\n",
    "    \n",
    "    data_to_display[0][3]['data'].append(\n",
    "        pd.DataFrame(\n",
    "            models_full_batch[0].prev_accepted_proposals\n",
    "        ).rename(columns={'beta': f'eps: {epsilons}'})\n",
    "    )\n",
    "\n",
    "create_images_from_data(\n",
    "    data={\n",
    "        'title': '3 batch updates',\n",
    "        'data': data_to_display\n",
    "    },\n",
    "    xlim=(0,1),\n",
    "    figsize_mult=(2,8)\n",
    ")"
   ]
  },
  {
   "cell_type": "markdown",
   "id": "f6c805f3",
   "metadata": {},
   "source": [
    "Using the [unlikely](https://github.com/Edderic/unlikely) library, Bayesian updating with the full batch, along with Bayesian updating through mini batches with only epsilon 0, seems to be more accurate than updating through mini batches with many epsilons. Mini batch updating leads to overinflated posterior distributions."
   ]
  },
  {
   "cell_type": "markdown",
   "id": "306ce948",
   "metadata": {},
   "source": [
    "## 2M2\n",
    "\n",
    "Now assume a prior for p that is equal to zero when p < 0.5 and is a positive constant when  p ≥ 0.5. Again compute and plot the grid approximate posterior distribution for each of the sets of observations in the problem just above. "
   ]
  },
  {
   "cell_type": "code",
   "execution_count": 1,
   "id": "40d8dc21",
   "metadata": {},
   "outputs": [
    {
     "name": "stderr",
     "output_type": "stream",
     "text": [
      "100%|████████████████████████████████████████████████████████████████████████████████████████████| 2000/2000 [00:01<00:00, 1366.43it/s]\n",
      "100%|████████████████████████████████████████████████████████████████████████████████████████████| 2000/2000 [00:01<00:00, 1349.28it/s]\n",
      "100%|█████████████████████████████████████████████████████████████████████████████████████████████| 2000/2000 [00:02<00:00, 943.95it/s]\n",
      "100%|█████████████████████████████████████████████████████████████████████████████████████████████| 2000/2000 [00:04<00:00, 430.20it/s]\n",
      "100%|████████████████████████████████████████████████████████████████████████████████████████████| 2000/2000 [00:00<00:00, 2993.63it/s]\n",
      "100%|█████████████████████████████████████████████████████████████████████████████████████████████| 2000/2000 [00:02<00:00, 700.25it/s]\n",
      "100%|█████████████████████████████████████████████████████████████████████████████████████████████| 2000/2000 [00:02<00:00, 675.96it/s]\n",
      "100%|█████████████████████████████████████████████████████████████████████████████████████████████| 2000/2000 [00:03<00:00, 533.95it/s]\n",
      "100%|████████████████████████████████████████████████████████████████████████████████████████████| 2000/2000 [00:00<00:00, 4078.42it/s]\n",
      "100%|█████████████████████████████████████████████████████████████████████████████████████████████| 2000/2000 [00:02<00:00, 753.45it/s]\n",
      "100%|█████████████████████████████████████████████████████████████████████████████████████████████| 2000/2000 [00:02<00:00, 738.87it/s]\n",
      "100%|█████████████████████████████████████████████████████████████████████████████████████████████| 2000/2000 [00:04<00:00, 477.59it/s]\n",
      "100%|████████████████████████████████████████████████████████████████████████████████████████████| 2000/2000 [00:00<00:00, 3725.84it/s]\n",
      "100%|█████████████████████████████████████████████████████████████████████████████████████████████| 2000/2000 [00:02<00:00, 748.68it/s]\n",
      "100%|█████████████████████████████████████████████████████████████████████████████████████████████| 2000/2000 [00:03<00:00, 650.54it/s]\n",
      "100%|█████████████████████████████████████████████████████████████████████████████████████████████| 2000/2000 [00:05<00:00, 367.66it/s]\n",
      "100%|████████████████████████████████████████████████████████████████████████████████████████████| 2000/2000 [00:00<00:00, 2637.01it/s]\n",
      "100%|█████████████████████████████████████████████████████████████████████████████████████████████| 2000/2000 [00:03<00:00, 599.75it/s]\n",
      "100%|█████████████████████████████████████████████████████████████████████████████████████████████| 2000/2000 [00:03<00:00, 502.80it/s]\n",
      "100%|█████████████████████████████████████████████████████████████████████████████████████████████| 2000/2000 [00:08<00:00, 248.04it/s]\n"
     ]
    },
    {
     "data": {
      "text/plain": [
       "(<Figure size 576x576 with 4 Axes>,\n",
       " array([<AxesSubplot:title={'center':'obs: [1 1 1]'}, ylabel='Density'>,\n",
       "        <AxesSubplot:title={'center':'after [1 1 1 0]'}, ylabel='Density'>,\n",
       "        <AxesSubplot:title={'center':'after [0 1 1 0 1 1 1]'}, ylabel='Density'>,\n",
       "        <AxesSubplot:title={'center':'Full batch'}, ylabel='Density'>],\n",
       "       dtype=object))"
      ]
     },
     "execution_count": 1,
     "metadata": {},
     "output_type": "execute_result"
    },
    {
     "data": {
      "image/png": "[encoded data removed]",
      "text/plain": [
       "<Figure size 576x576 with 4 Axes>"
      ]
     },
     "metadata": {
      "needs_background": "light"
     },
     "output_type": "display_data"
    }
   ],
   "source": [
    "import numpy as np\n",
    "import pandas as pd\n",
    "from unlikely.models import Models, Model\n",
    "from unlikely.priors import Uniform\n",
    "from unlikely.engine import abc_smc\n",
    "from unlikely.misc import create_images_from_data\n",
    "import pdb\n",
    "\n",
    "num_particles = 2000\n",
    "obs = np.array([\n",
    "    1,1,1,\n",
    "    1,1,1,0,\n",
    "    0,1,1,0,1,1,1\n",
    "])\n",
    "\n",
    "epsilons_list = [[0], [3,2,1,0]]\n",
    "\n",
    "\n",
    "def distance(x,y):\n",
    "    \"\"\"\n",
    "    Compare the number of ones in one vs. the other.\n",
    "    \"\"\"\n",
    "    return abs(x.sum() - y.sum())\n",
    "\n",
    "def simulate(priors, obs):\n",
    "    \"\"\"\n",
    "    Data is binomially distributed.\n",
    "    \"\"\"\n",
    "    \n",
    "    return np.random.binomial(n=1, p=priors['uniform'], size=len(obs))\n",
    "    \n",
    "data_to_display = [\n",
    "    [\n",
    "        {\n",
    "            'title': f\"obs: {obs[:3]}\",\n",
    "            'data': []\n",
    "        },\n",
    "        {\n",
    "            'title': f\"after {obs[3:7]}\",\n",
    "            'data': []\n",
    "        },\n",
    "        {\n",
    "            'title': f\"after {obs[7:]}\",\n",
    "            'data': []\n",
    "        },\n",
    "        {\n",
    "            'title': \"Full batch\",\n",
    "            'data': []\n",
    "        }\n",
    "    ]\n",
    "]\n",
    "\n",
    "\n",
    "for row, epsilons in enumerate(epsilons_list):\n",
    "    models = Models(\n",
    "        [\n",
    "            Model(\n",
    "                name='Uniform over (0.5, 1)',\n",
    "                priors=[\n",
    "                    Uniform(alpha=0.5, beta=1, name=\"uniform\"),\n",
    "                ],\n",
    "                simulate=simulate,\n",
    "                prior_model_proba=1,\n",
    "            ),\n",
    "        ]\n",
    "    )\n",
    "\n",
    "    # Update with 1st batch\n",
    "    abc_smc(\n",
    "        num_particles=num_particles,\n",
    "        epsilons=epsilons,\n",
    "        models=models,\n",
    "        obs=obs[:3],\n",
    "        distance=distance,\n",
    "    )\n",
    "\n",
    "    data_to_display[0][0]['data'].append(\n",
    "        pd.DataFrame(models[0].prev_accepted_proposals).rename(\n",
    "            columns={'uniform': f'eps: {epsilons}'}\n",
    "        )\n",
    "    )\n",
    "\n",
    "\n",
    "    # The posterior distribution becomes the prior\n",
    "    models.use_distribution_from_samples()\n",
    "\n",
    "    # Update with 2nd batch\n",
    "    abc_smc(\n",
    "        num_particles=num_particles,\n",
    "        epsilons=epsilons,\n",
    "        models=models,\n",
    "        obs=obs[3:7],\n",
    "        distance=distance,\n",
    "    )\n",
    "\n",
    "    # The posterior distribution becomes the prior\n",
    "    models.use_distribution_from_samples()\n",
    "    \n",
    "    data_to_display[0][1]['data'].append(\n",
    "        pd.DataFrame(\n",
    "            models[0].prev_accepted_proposals).rename(\n",
    "            columns={'uniform': f'eps: {epsilons}'}\n",
    "        )\n",
    "    )\n",
    "\n",
    "    # Update with 3rd batch\n",
    "    abc_smc(\n",
    "        num_particles=num_particles,\n",
    "        epsilons=epsilons,\n",
    "        models=models,\n",
    "        obs=obs[7:],\n",
    "        distance=distance,\n",
    "    )\n",
    "\n",
    "    data_to_display[0][2]['data'].append(\n",
    "        pd.DataFrame(\n",
    "            models[0].prev_accepted_proposals).rename(\n",
    "            columns={'uniform': f'eps: {epsilons}'}\n",
    "        )\n",
    "    )\n",
    "\n",
    "    models_full_batch = Models(\n",
    "        [\n",
    "            Model(\n",
    "                name='flat prior',\n",
    "                priors=[\n",
    "                    Uniform(alpha=0.5, beta=1, name=\"uniform\"),\n",
    "                ],\n",
    "                simulate=simulate,\n",
    "                prior_model_proba=1,\n",
    "            ),\n",
    "        ]\n",
    "    )\n",
    "\n",
    "    # Update full batch\n",
    "    abc_smc(\n",
    "        num_particles=num_particles,\n",
    "        epsilons=epsilons,\n",
    "        models=models_full_batch,\n",
    "        obs=obs,\n",
    "        distance=distance,\n",
    "    )\n",
    "    \n",
    "    data_to_display[0][3]['data'].append(\n",
    "        pd.DataFrame(\n",
    "            models_full_batch[0].prev_accepted_proposals\n",
    "        ).rename(columns={'uniform': f'eps: {epsilons}'})\n",
    "    )\n",
    "\n",
    "create_images_from_data(\n",
    "    data={\n",
    "        'title': '3 batch updates',\n",
    "        'data': data_to_display\n",
    "    },\n",
    "    xlim=(0,1),\n",
    "    figsize_mult=(2,8)\n",
    ")"
   ]
  },
  {
   "cell_type": "markdown",
   "id": "5953f5c9",
   "metadata": {},
   "source": [
    "## 2M3\n",
    "\n",
    "Suppose there are two globes, one for Earth and one for Mars. The Earth globe is 70% covered  in water. The Mars globe is 100% land. Further suppose that one of these globes—you don’t know  which—was tossed in the air and produced a “land” observation. Assume that each globe was equally  likely to be tossed. Show that the posterior probability that the globe was the Earth, conditional on  seeing “land” (Pr(Earth|land)), is 0.23.  "
   ]
  },
  {
   "cell_type": "code",
   "execution_count": 3,
   "id": "2464f2f1",
   "metadata": {},
   "outputs": [
    {
     "data": {
      "text/plain": [
       "'proba_water'"
      ]
     },
     "execution_count": 3,
     "metadata": {},
     "output_type": "execute_result"
    }
   ],
   "source": [
    "Beta(alpha=700, beta=300, name=\"proba_water\").get_name()"
   ]
  },
  {
   "cell_type": "markdown",
   "id": "13af93f3",
   "metadata": {},
   "source": [
    "We can construct two models of the world: one corresponding to the Earth and one corresponding to Mars. We then run the ABC-SMC algorithm. Afterwards, we compute to see how many times the samples produced from Earth are accepted and compare that to how many times the samples from Mars were accepted. We then normalize those two numbers by the number of total samples. "
   ]
  },
  {
   "cell_type": "code",
   "execution_count": 7,
   "id": "68e91b1a",
   "metadata": {},
   "outputs": [
    {
     "name": "stderr",
     "output_type": "stream",
     "text": [
      "100%|████████████████████████████████████████████████████████████████████████████████████████████| 2000/2000 [00:01<00:00, 1950.46it/s]\n"
     ]
    },
    {
     "data": {
      "text/plain": [
       "{'Earth produced it': 0.2325, 'Mars produced it': 0.7675}"
      ]
     },
     "execution_count": 7,
     "metadata": {},
     "output_type": "execute_result"
    }
   ],
   "source": [
    "import numpy as np\n",
    "import pandas as pd\n",
    "from unlikely.models import Models, Model\n",
    "from unlikely.priors import Beta\n",
    "from unlikely.engine import abc_smc\n",
    "from unlikely.misc import create_images_from_data\n",
    "\n",
    "\n",
    "def simulate(priors, obs):\n",
    "    \"\"\"\n",
    "    Data is binomially distributed.\n",
    "    \"\"\"\n",
    "    \n",
    "    return np.random.binomial(n=1, p=priors['proba_water'], size=len(obs))\n",
    "    \n",
    "def distance(x,y):\n",
    "    \"\"\"\n",
    "    Compare the number of ones in one vs. the other.\n",
    "    \"\"\"\n",
    "    return abs(x.sum() - y.sum())\n",
    "\n",
    "obs = np.array([0]) # land\n",
    "\n",
    "num_particles = 2000\n",
    "epsilons = [0]\n",
    "\n",
    "models = Models(\n",
    "    [\n",
    "        Model(\n",
    "            name='Earth produced it',\n",
    "            priors=[\n",
    "                Beta(alpha=700 + 1, beta=300 + 1, name=\"proba_water\")\n",
    "            ],\n",
    "            simulate=simulate,\n",
    "            prior_model_proba=0.5,\n",
    "        ),\n",
    "\n",
    "        Model(\n",
    "            name='Mars produced it',\n",
    "            priors=[\n",
    "                Beta(alpha=1, beta=1001, name=\"proba_water\")\n",
    "            ],\n",
    "            simulate=simulate,\n",
    "            prior_model_proba=0.5,\n",
    "        )\n",
    "    ]\n",
    ")\n",
    "\n",
    "abc_smc(\n",
    "    num_particles=num_particles,\n",
    "    epsilons=epsilons,\n",
    "    models=models,\n",
    "    obs=obs,\n",
    "    distance=distance,\n",
    ")\n",
    "\n",
    "models.get_posterior_probabilities()\n"
   ]
  },
  {
   "cell_type": "markdown",
   "id": "ea1a92f2",
   "metadata": {},
   "source": [
    "$P(\\text{Earth} \\mid \\text{Data}) \\approx 0.23$ "
   ]
  },
  {
   "cell_type": "markdown",
   "id": "ae7e4030",
   "metadata": {},
   "source": [
    "## 2M4\n",
    "\n",
    "Suppose you have a deck with only three cards. Each card has two sides, and each side is either  black or white. One card has two black sides. The second card has one black and one white side. The  third card has two white sides. Now suppose all three cards are placed in a bag and shuffled. Someone  reaches into the bag and pulls out a card and places it flat on a table. A black side is shown facing up,  but you don’t know the color of the side facing down. Show that the probability that the other side is  also black is 2/3. Use the counting method (Section 2 of the chapter) to approach this problem. This  means counting up the ways that each card could produce the observed data (a black side facing up  on the table)."
   ]
  },
  {
   "cell_type": "code",
   "execution_count": 10,
   "id": "937b658b",
   "metadata": {},
   "outputs": [
    {
     "data": {
      "text/plain": [
       "0"
      ]
     },
     "execution_count": 10,
     "metadata": {},
     "output_type": "execute_result"
    }
   ],
   "source": [
    "np.random.randint(0,1)"
   ]
  },
  {
   "cell_type": "code",
   "execution_count": 21,
   "id": "4f934bd2",
   "metadata": {},
   "outputs": [
    {
     "name": "stdout",
     "output_type": "stream",
     "text": [
      "Probability that the other side is black: 0.67\n"
     ]
    }
   ],
   "source": [
    "import numpy as np\n",
    "\n",
    "\n",
    "card_1 = [0, 0]\n",
    "card_2 = [0, 1]\n",
    "card_3 = [1, 1]\n",
    "\n",
    "\n",
    "probas = [1/3, 1/3, 1/3]\n",
    "cards = [card_1, card_2, card_3]\n",
    "\n",
    "def simulate_card_selection(cards, probas):\n",
    "    \"\"\"\n",
    "    Let Black be represented by 0, and White be represented by 1.\n",
    "    \"\"\"\n",
    "    \n",
    "    count_black_other_side = 0\n",
    "    num_sims = 10000\n",
    "    num_div = 0\n",
    "    \n",
    "    for i in range(num_sims):\n",
    "        \n",
    "        # choose a card randomly\n",
    "        chosen_card_index = np.random.choice(list(range(len(cards))), p=probas)\n",
    "        \n",
    "        chosen_card = cards[chosen_card_index]\n",
    "        \n",
    "        # choose a side to display\n",
    "        chosen_side_to_show_index = np.random.randint(0,2)\n",
    "        other_side_index = 1 - chosen_side_to_show_index\n",
    "        chosen_side_to_show = chosen_card[chosen_side_to_show_index]\n",
    "        \n",
    "        if chosen_side_to_show == 0:\n",
    "            num_div += 1\n",
    "            \n",
    "            if chosen_card[other_side_index] == 0:  \n",
    "                count_black_other_side += 1\n",
    "            \n",
    "    return count_black_other_side / num_div\n",
    "\n",
    "print(f\"Probability that the other side is black: {round(simulate_card_selection(cards, probas), 2)}\")"
   ]
  },
  {
   "cell_type": "markdown",
   "id": "5398940d",
   "metadata": {},
   "source": [
    "## 2M5\n",
    "\n",
    "2M5. Now suppose there are four cards: B/B, B/W, W/W, and another B/B. Again suppose a card is  drawn from the bag and a black side appears face up. Again calculate the probability that the other  side is black."
   ]
  },
  {
   "cell_type": "code",
   "execution_count": 19,
   "id": "9e07f38e",
   "metadata": {},
   "outputs": [
    {
     "name": "stdout",
     "output_type": "stream",
     "text": [
      "Probability that the other side is black: 0.81\n"
     ]
    }
   ],
   "source": [
    "cards = [(0,0), (0,1), (1,1), (0,0)]\n",
    "print(f\"Probability that the other side is black: {round(simulate_card_selection(cards), 2)}\")"
   ]
  },
  {
   "cell_type": "markdown",
   "id": "b84da944",
   "metadata": {},
   "source": [
    "## 2M6\n",
    "\n",
    "Imagine that black ink is heavy, and so cards with black sides are heavier than cards with white  sides. As a result, it’s less likely that a card with black sides is pulled from the bag. So again assume  there are three cards: B/B, B/W, and W/W. After experimenting a number of times, you conclude that  for every way to pull the B/B card from the bag, there are 2 ways to pull the B/W card and 3 ways to  pull the W/W card. Again suppose that a card is pulled and a black side appears face up. Show that  the probability the other side is black is now 0.5. Use the counting method, as before. "
   ]
  },
  {
   "cell_type": "code",
   "execution_count": 24,
   "id": "09579559",
   "metadata": {},
   "outputs": [
    {
     "name": "stdout",
     "output_type": "stream",
     "text": [
      "Probability that the other side is black: 0.49\n"
     ]
    }
   ],
   "source": [
    "cards = [(0,0), (0,1), (1,1)]\n",
    "probas = np.array([1, 2, 3])\n",
    "probas = probas / probas.sum() # Normalize\n",
    "print(f\"Probability that the other side is black: {round(simulate_card_selection(cards, probas), 2)}\")"
   ]
  },
  {
   "cell_type": "markdown",
   "id": "57ab81f7",
   "metadata": {},
   "source": [
    "## 2M7\n",
    "\n",
    "Assume again the original card problem, with a single card showing a black side face up. Before  looking at the other side, we draw another card from the bag and lay it face up on the table. The face  that is shown on the new card is white. Show that the probability that the first card, the one showing  a black side, has black on its other side is now 0.75. Use the counting method, if you can. Hint: Treat  this like the sequence of globe tosses, counting all the ways to see each observation, for each possible  first card."
   ]
  },
  {
   "cell_type": "code",
   "execution_count": 31,
   "id": "569a5a0c",
   "metadata": {},
   "outputs": [
    {
     "name": "stdout",
     "output_type": "stream",
     "text": [
      "Probability that the other side is black: 0.76\n"
     ]
    }
   ],
   "source": [
    "def simulate_card_selection_2M7(cards, probas):\n",
    "    \"\"\"\n",
    "    Let Black be represented by 0, and White be represented by 1.\n",
    "    \"\"\"\n",
    "    \n",
    "    count_black_other_side = 0\n",
    "    num_sims = 10000\n",
    "    num_div = 0\n",
    "    \n",
    "    for i in range(num_sims):\n",
    "        \n",
    "        # choose a card randomly\n",
    "        chosen_card_index = np.random.choice(\n",
    "            list(range(len(cards))), \n",
    "            p=probas\n",
    "        )\n",
    "        \n",
    "        chosen_card = cards[chosen_card_index]\n",
    "        \n",
    "        # choose a side to display\n",
    "        chosen_side_to_show_index = np.random.randint(0,2)\n",
    "        other_side_index = 1 - chosen_side_to_show_index\n",
    "        chosen_side_to_show = chosen_card[chosen_side_to_show_index]\n",
    "        \n",
    "        possible_other_chosen_card_indices = list(\n",
    "            set(list(range(len(cards)))) - set({chosen_card_index})\n",
    "        )\n",
    "\n",
    "        other_card_index = np.random.choice(possible_other_chosen_card_indices)\n",
    "        other_card = cards[other_card_index]\n",
    "        other_card_side_to_show_index = np.random.randint(0,2)\n",
    "        other_card_side_to_hide_index = 1 - other_card_side_to_show_index\n",
    "        \n",
    "        other_card_side_to_show = other_card[other_card_side_to_show_index]\n",
    "        other_card_side_to_hide = other_card[other_card_side_to_hide_index]\n",
    "        \n",
    "        \n",
    "        if chosen_side_to_show == 0 and other_card_side_to_show == 1:\n",
    "            num_div += 1\n",
    "            \n",
    "            if chosen_card[other_side_index] == 0:  \n",
    "                count_black_other_side += 1\n",
    "            \n",
    "    return count_black_other_side / num_div\n",
    "\n",
    "cards = [(0,0), (0,1), (1,1)]\n",
    "probas = np.array([1, 1, 1])\n",
    "probas = probas / probas.sum()\n",
    "print(f\"Probability that the other side is black: {round(simulate_card_selection_2M7(cards, probas), 2)}\")"
   ]
  },
  {
   "cell_type": "markdown",
   "id": "9a520022",
   "metadata": {},
   "source": [
    "## 2H1\n",
    "\n",
    "Suppose there are two species of panda bear. Both are equally common in the wild and live in the same places. They look exactly alike and eat the same food, and there is yet no genetic assay  capable of telling them apart. They differ however in their family sizes. Species A gives birth to twins 10% of the time, otherwise birthing a single infant. Species B births twins 20% of the time, otherwise  birthing singleton infants. Assume these numbers are known with certainty, from many years of field research. \n",
    "\n",
    "Now suppose you are managing a captive panda breeding program. You have a new female panda  of unknown species, and she has just given birth to twins. What is the probability that her next birth  will also be twins? "
   ]
  },
  {
   "cell_type": "code",
   "execution_count": 49,
   "id": "ec123936",
   "metadata": {},
   "outputs": [
    {
     "name": "stderr",
     "output_type": "stream",
     "text": [
      "100%|█████████████████████████████████████████████████████████████████████████████████████████████| 5000/5000 [00:14<00:00, 350.27it/s]\n"
     ]
    },
    {
     "data": {
      "text/plain": [
       "{'Species A': 0.3294, 'Species B': 0.6706}"
      ]
     },
     "execution_count": 49,
     "metadata": {},
     "output_type": "execute_result"
    }
   ],
   "source": [
    "import numpy as np\n",
    "import pandas as pd\n",
    "from unlikely.models import Models, Model\n",
    "from unlikely.priors import Beta\n",
    "from unlikely.engine import abc_smc\n",
    "from unlikely.misc import create_images_from_data\n",
    "\n",
    "\n",
    "def simulate(priors, obs):\n",
    "    \"\"\"\n",
    "    Data is binomially distributed.\n",
    "    \"\"\"\n",
    "    \n",
    "    return np.random.binomial(n=1, p=priors['proba_twin'], size=len(obs))\n",
    "    \n",
    "def distance(x,y):\n",
    "    \"\"\"\n",
    "    Compare the number of ones in one vs. the other.\n",
    "    \"\"\"\n",
    "    return abs(x.sum() - y.sum())\n",
    "\n",
    "obs = np.array([1]) # observe a twin birth\n",
    "\n",
    "num_particles = 5000\n",
    "epsilons = [0]\n",
    "\n",
    "models = Models(\n",
    "    [\n",
    "        Model(\n",
    "            name='Species A',\n",
    "            priors=[\n",
    "                # Species A gives birth to twins 10% of the time\n",
    "                Beta(alpha=1000 + 1, beta=9000 + 1, name=\"proba_twin\")\n",
    "            ],\n",
    "            simulate=simulate,\n",
    "            prior_model_proba=0.5,\n",
    "        ),\n",
    "\n",
    "        Model(\n",
    "            name='Species B',\n",
    "            priors=[\n",
    "                # Species B gives birth to twins 20% of the time\n",
    "                Beta(alpha=2000 + 1, beta=8000 + 1, name=\"proba_twin\")\n",
    "            ],\n",
    "            simulate=simulate,\n",
    "            prior_model_proba=0.5,\n",
    "        )\n",
    "    ]\n",
    ")\n",
    "\n",
    "abc_smc(\n",
    "    num_particles=num_particles,\n",
    "    epsilons=epsilons,\n",
    "    models=models,\n",
    "    obs=obs,\n",
    "    distance=distance,\n",
    ")\n",
    "\n",
    "models.get_posterior_probabilities()\n"
   ]
  },
  {
   "cell_type": "markdown",
   "id": "907745ed",
   "metadata": {},
   "source": [
    "There's a 1/3 chance that the species of mother is A, while there's a 2/3 chance that it is B. The data generating process in terms of the DAG is:"
   ]
  },
  {
   "cell_type": "code",
   "execution_count": 41,
   "id": "5504e507",
   "metadata": {},
   "outputs": [
    {
     "data": {
      "image/svg+xml": [
       "<?xml version=\"1.0\" encoding=\"UTF-8\" standalone=\"no\"?>\n",
       "<!DOCTYPE svg PUBLIC \"-//W3C//DTD SVG 1.1//EN\"\n",
       " \"http://www.w3.org/Graphics/SVG/1.1/DTD/svg11.dtd\">\n",
       "<!-- Generated by graphviz version 2.49.0 (0)\n",
       " -->\n",
       "<!-- Title: species&#45;birthing&#45;dag Pages: 1 -->\n",
       "<svg width=\"244pt\" height=\"116pt\"\n",
       " viewBox=\"0.00 0.00 244.19 116.00\" xmlns=\"http://www.w3.org/2000/svg\" xmlns:xlink=\"http://www.w3.org/1999/xlink\">\n",
       "<g id=\"graph0\" class=\"graph\" transform=\"scale(1 1) rotate(0) translate(4 112)\">\n",
       "<title>species&#45;birthing&#45;dag</title>\n",
       "<polygon fill=\"white\" stroke=\"transparent\" points=\"-4,4 -4,-112 240.19,-112 240.19,4 -4,4\"/>\n",
       "<!-- Species -->\n",
       "<g id=\"node1\" class=\"node\">\n",
       "<title>Species</title>\n",
       "<ellipse fill=\"none\" stroke=\"black\" cx=\"124.74\" cy=\"-90\" rx=\"38.19\" ry=\"18\"/>\n",
       "<text text-anchor=\"middle\" x=\"124.74\" y=\"-86.3\" font-family=\"Times,serif\" font-size=\"14.00\">Species</text>\n",
       "</g>\n",
       "<!-- Twin(t=0) = 1 -->\n",
       "<g id=\"node2\" class=\"node\">\n",
       "<title>Twin(t=0) = 1</title>\n",
       "<ellipse fill=\"none\" stroke=\"black\" cx=\"61.74\" cy=\"-18\" rx=\"61.99\" ry=\"18\"/>\n",
       "<text text-anchor=\"middle\" x=\"61.74\" y=\"-14.3\" font-family=\"Times,serif\" font-size=\"14.00\">Twin(t=0) = 1</text>\n",
       "</g>\n",
       "<!-- Species&#45;&gt;Twin(t=0) = 1 -->\n",
       "<g id=\"edge1\" class=\"edge\">\n",
       "<title>Species&#45;&gt;Twin(t=0) = 1</title>\n",
       "<path fill=\"none\" stroke=\"black\" d=\"M110.45,-73.12C102.54,-64.33 92.55,-53.23 83.68,-43.37\"/>\n",
       "<polygon fill=\"black\" stroke=\"black\" points=\"86.15,-40.89 76.86,-35.8 80.95,-45.57 86.15,-40.89\"/>\n",
       "</g>\n",
       "<!-- Twin(t=1) -->\n",
       "<g id=\"node3\" class=\"node\">\n",
       "<title>Twin(t=1)</title>\n",
       "<ellipse fill=\"none\" stroke=\"black\" cx=\"188.74\" cy=\"-18\" rx=\"47.39\" ry=\"18\"/>\n",
       "<text text-anchor=\"middle\" x=\"188.74\" y=\"-14.3\" font-family=\"Times,serif\" font-size=\"14.00\">Twin(t=1)</text>\n",
       "</g>\n",
       "<!-- Species&#45;&gt;Twin(t=1) -->\n",
       "<g id=\"edge2\" class=\"edge\">\n",
       "<title>Species&#45;&gt;Twin(t=1)</title>\n",
       "<path fill=\"none\" stroke=\"black\" d=\"M139.27,-73.12C147.42,-64.2 157.74,-52.91 166.85,-42.94\"/>\n",
       "<polygon fill=\"black\" stroke=\"black\" points=\"169.67,-45.05 173.84,-35.31 164.5,-40.33 169.67,-45.05\"/>\n",
       "</g>\n",
       "</g>\n",
       "</svg>\n"
      ],
      "text/plain": [
       "<graphviz.dot.Digraph at 0x181d659a0>"
      ]
     },
     "execution_count": 41,
     "metadata": {},
     "output_type": "execute_result"
    }
   ],
   "source": [
    "import graphviz\n",
    "\n",
    "from graphviz import Digraph\n",
    "\n",
    "dag = Digraph('species-birthing-dag')\n",
    "dag.edge('Species', 'Twin(t=0) = 1')\n",
    "dag.edge('Species', 'Twin(t=1)')\n",
    "dag"
   ]
  },
  {
   "cell_type": "markdown",
   "id": "2ef6a76a",
   "metadata": {},
   "source": [
    "$$\n",
    "\\begin{equation}\n",
    "\\begin{aligned}\n",
    "  P(T_{t=1} \\mid T_{t=0} = 1) &= \\sum_s P(T_{t=1}, S=s \\mid T_{t=0} = 1) \\\\\n",
    "&= \\sum_s P(T_{t=1} \\mid S=s, T_{t=0} = 1) \\cdot P(S=s \\mid T_{t=1}) \\\\\n",
    "&= \\sum_s P(T_{t=1} \\mid S=s) \\cdot P(S=s \\mid T_{t=0} = 1) & \\text{Once you know the Species, a previous birth doesn't tell you anything about the next birth}\\\\\n",
    "\\end{aligned}\n",
    "\\end{equation}\n",
    "$$\n"
   ]
  },
  {
   "cell_type": "markdown",
   "id": "0aa4a285",
   "metadata": {},
   "source": [
    "From running the above code, we have $P(S=a \\mid T_{t=0}=1) \\approx 0.334$ and $P(S=b \\mid T_{t=0}=1) \\approx 0.666$. We are also given $P(T_{t=1} \\mid S=s)$. When $S=a$, we have  $P(T_{t=1} \\mid S=a) = 0.10$. For $S=b$, it is double that: $P(T_{t=1} \\mid S=a) = 0.20$.\n",
    "\n",
    "Thus, the above equation reduces to:\n",
    "\n",
    "$$\n",
    "\\begin{equation}\n",
    "\\begin{aligned}\n",
    "\\sum_s P(T_{t=1} \\mid S=s) \\cdot P(S=s \\mid T_{t=0} = 1) &=\n",
    "P(T_{t=1} \\mid S=a) \\cdot P(S=a \\mid T_{t=0} = 1) \\\\\n",
    "&\\quad + P(T_{t=1} \\mid S=b) \\cdot P(S=b \\mid T_{t=0} = 1) \\\\\n",
    "&= 0.1 \\cdot 0.334 + 0.2 \\cdot 0.666 \\\\\n",
    "&= 0.1666 \\\\\n",
    "&\\approx 0.17\n",
    "\\end{aligned}\n",
    "\\end{equation}\n",
    "$$\n",
    "\n"
   ]
  },
  {
   "cell_type": "markdown",
   "id": "2f854853",
   "metadata": {},
   "source": [
    "We could find the same answer by using our updated model of the world ($P(S=s \\mid T_{t=0} = 1)$) to produce imaginary data for the next birth:"
   ]
  },
  {
   "cell_type": "code",
   "execution_count": 50,
   "id": "1070d9a8",
   "metadata": {},
   "outputs": [
    {
     "data": {
      "text/plain": [
       "0.17020000000000002"
      ]
     },
     "execution_count": 50,
     "metadata": {},
     "output_type": "execute_result"
    }
   ],
   "source": [
    "simulate(\n",
    "    models[0].prev_accepted_proposals, \n",
    "    models[0].prev_accepted_proposals\n",
    ").mean() * models.get_posterior_probabilities()['Species A'] + simulate(\n",
    "    models[1].prev_accepted_proposals, \n",
    "    models[1].prev_accepted_proposals\n",
    ").mean() * models.get_posterior_probabilities()['Species B']"
   ]
  },
  {
   "cell_type": "markdown",
   "id": "95d97ca6",
   "metadata": {},
   "source": [
    "## 2H2\n",
    "\n",
    "Recall all the facts from the problem above. Now compute the probability that the panda we  have is from species A, assuming we have observed only the first birth and that it was twins."
   ]
  },
  {
   "cell_type": "code",
   "execution_count": 52,
   "id": "85d01302",
   "metadata": {},
   "outputs": [
    {
     "name": "stderr",
     "output_type": "stream",
     "text": [
      "100%|█████████████████████████████████████████████████████████████████████████████████████████████| 5000/5000 [00:13<00:00, 358.93it/s]"
     ]
    },
    {
     "name": "stdout",
     "output_type": "stream",
     "text": [
      "The probabilities of the species of the mother, given we observed twins: {'Species A': 0.3496, 'Species B': 0.6504}\n"
     ]
    },
    {
     "name": "stderr",
     "output_type": "stream",
     "text": [
      "\n"
     ]
    }
   ],
   "source": [
    "import numpy as np\n",
    "import pandas as pd\n",
    "from unlikely.models import Models, Model\n",
    "from unlikely.priors import Beta\n",
    "from unlikely.engine import abc_smc\n",
    "from unlikely.misc import create_images_from_data\n",
    "\n",
    "\n",
    "def simulate(priors, obs):\n",
    "    \"\"\"\n",
    "    Data is binomially distributed.\n",
    "    \"\"\"\n",
    "    \n",
    "    return np.random.binomial(n=1, p=priors['proba_twin'], size=len(obs))\n",
    "    \n",
    "def distance(x,y):\n",
    "    \"\"\"\n",
    "    Compare the number of ones in one vs. the other.\n",
    "    \"\"\"\n",
    "    return abs(x.sum() - y.sum())\n",
    "\n",
    "obs = np.array([1]) # observe a twin birth\n",
    "\n",
    "num_particles = 5000\n",
    "epsilons = [0]\n",
    "\n",
    "models = Models(\n",
    "    [\n",
    "        Model(\n",
    "            name='Species A',\n",
    "            priors=[\n",
    "                # Species A gives birth to twins 10% of the time\n",
    "                Beta(alpha=1000 + 1, beta=9000 + 1, name=\"proba_twin\")\n",
    "            ],\n",
    "            simulate=simulate,\n",
    "            prior_model_proba=0.5,\n",
    "        ),\n",
    "\n",
    "        Model(\n",
    "            name='Species B',\n",
    "            priors=[\n",
    "                # Species B gives birth to twins 20% of the time\n",
    "                Beta(alpha=2000 + 1, beta=8000 + 1, name=\"proba_twin\")\n",
    "            ],\n",
    "            simulate=simulate,\n",
    "            prior_model_proba=0.5,\n",
    "        )\n",
    "    ]\n",
    ")\n",
    "\n",
    "abc_smc(\n",
    "    num_particles=num_particles,\n",
    "    epsilons=epsilons,\n",
    "    models=models,\n",
    "    obs=obs,\n",
    "    distance=distance,\n",
    ")\n",
    "\n",
    "print(\n",
    "    \"The probabilities of the species of the mother, given we observed twins: \"\\\n",
    "    + f\"{models.get_posterior_probabilities()}\" \n",
    ")\n"
   ]
  },
  {
   "cell_type": "markdown",
   "id": "e1e1802f",
   "metadata": {},
   "source": [
    "## 2H3\n",
    "\n",
    "Continuing on from the previous problem, suppose the same panda mother has a second birth  and that it is not twins, but a singleton infant. Compute the posterior probability that this panda is species A."
   ]
  },
  {
   "cell_type": "code",
   "execution_count": 54,
   "id": "c0599867",
   "metadata": {},
   "outputs": [
    {
     "name": "stderr",
     "output_type": "stream",
     "text": [
      "100%|████████████████████████████████████████████████████████████████████████████████████████████| 5000/5000 [00:00<00:00, 5901.81it/s]"
     ]
    },
    {
     "name": "stdout",
     "output_type": "stream",
     "text": [
      "The probabilities of the species of the mother, given we observed 1 twin and 1 singleton: {'Species A': 0.3918, 'Species B': 0.6082}\n"
     ]
    },
    {
     "name": "stderr",
     "output_type": "stream",
     "text": [
      "\n"
     ]
    }
   ],
   "source": [
    "models.use_distribution_from_samples() # set posterior distribution samples as new prior.\n",
    "\n",
    "abc_smc(\n",
    "    num_particles=num_particles,\n",
    "    epsilons=epsilons,\n",
    "    models=models,\n",
    "    obs=np.array([0]),\n",
    "    distance=distance,\n",
    ")\n",
    "\n",
    "print(\n",
    "    \"The probabilities of the species of the mother, given we observed 1 twin and 1 singleton: \"\\\n",
    "    + f\"{models.get_posterior_probabilities()}\" \n",
    ")\n"
   ]
  },
  {
   "cell_type": "markdown",
   "id": "30811192",
   "metadata": {},
   "source": [
    "Using the posterior from 2H2 as the prior, and combining that with the observation of a singleton infant, Species A became more likely, but Species B is still the more probable."
   ]
  },
  {
   "cell_type": "markdown",
   "id": "21c4c76e",
   "metadata": {},
   "source": [
    "## 2H4\n",
    "\n",
    "A common boast of Bayesian statisticians is that Bayesian inference makes it easy to use all of  the data, even if the data are of different types.  So suppose now that a veterinarian comes along who has a new genetic test that she claims can  identify the species of our mother panda. But the test, like all tests, is imperfect. This is the information you have about the test:  \n",
    "\n",
    "• The probability it correctly identifies a species A panda is 0.8.  \n",
    "• The probability it correctly identifies a species B panda is 0.65. \n",
    "\n",
    "The vet administers the test to your panda and tells you that the test is positive for species A. First  ignore your previous information from the births and compute the posterior probability that your  panda is species A. Then redo your calculation, now using the birth data as well."
   ]
  },
  {
   "cell_type": "markdown",
   "id": "a9e59eeb",
   "metadata": {},
   "source": [
    "### Using vet genetic test only:"
   ]
  },
  {
   "cell_type": "code",
   "execution_count": 2,
   "id": "8666b6da",
   "metadata": {},
   "outputs": [
    {
     "name": "stderr",
     "output_type": "stream",
     "text": [
      "100%|████████████████████████████████████████████████████████████████████████████████████████████| 5000/5000 [00:02<00:00, 1856.05it/s]\n"
     ]
    },
    {
     "name": "stdout",
     "output_type": "stream",
     "text": [
      "The probabilities of the species of the mother, given the doctor's claim: {'Species A': 0.7004, 'Species B': 0.2996}\n"
     ]
    }
   ],
   "source": [
    "import numpy as np\n",
    "import pandas as pd\n",
    "from unlikely.models import Models, Model\n",
    "from unlikely.priors import Beta\n",
    "from unlikely.engine import abc_smc\n",
    "from unlikely.misc import create_images_from_data\n",
    "\n",
    "def simulate(priors, obs):\n",
    "    return np.random.binomial(n=1, p=priors['doc_proba'], size=len(obs))\n",
    "        \n",
    "def distance(x,y):\n",
    "    \"\"\"\n",
    "    Compare the number of ones in one vs. the other.\n",
    "    \"\"\"\n",
    "    return abs(x.sum() - y.sum())\n",
    "\n",
    "obs = np.array([1]) # Doctor claims a species A\n",
    "\n",
    "num_particles = 5000\n",
    "epsilons = [0]\n",
    "\n",
    "models = Models(\n",
    "    [\n",
    "        Model(\n",
    "            name='Species A',\n",
    "            priors=[\n",
    "                Beta(alpha=8000 + 1, beta=2000 + 1, name=\"doc_proba\")\n",
    "            ],\n",
    "            simulate=simulate,\n",
    "            prior_model_proba=0.5,\n",
    "        ),\n",
    "\n",
    "        Model(\n",
    "            name='Species B',\n",
    "            priors=[\n",
    "                Beta(alpha=3500 + 1, beta=6500 + 1, name=\"doc_proba\")\n",
    "            ],\n",
    "            simulate=simulate,\n",
    "            prior_model_proba=0.5,\n",
    "        )\n",
    "    ]\n",
    ")\n",
    "\n",
    "abc_smc(\n",
    "    num_particles=num_particles,\n",
    "    epsilons=epsilons,\n",
    "    models=models,\n",
    "    obs=obs,\n",
    "    distance=distance,\n",
    ")\n",
    "\n",
    "print(\n",
    "    \"The probabilities of the species of the mother, given the doctor's claim: \"\\\n",
    "    + f\"{models.get_posterior_probabilities()}\" \n",
    ")\n"
   ]
  },
  {
   "cell_type": "code",
   "execution_count": 4,
   "id": "97d68721",
   "metadata": {},
   "outputs": [
    {
     "data": {
      "text/plain": [
       "[1, 1, 2]"
      ]
     },
     "execution_count": 4,
     "metadata": {},
     "output_type": "execute_result"
    }
   ],
   "source": [
    "list(np.array([1])) + list(np.array([1,2]))"
   ]
  },
  {
   "cell_type": "code",
   "execution_count": 8,
   "id": "04cbb598",
   "metadata": {},
   "outputs": [
    {
     "name": "stderr",
     "output_type": "stream",
     "text": [
      "100%|█████████████████████████████████████████████████████████████████████████████████████████████| 5000/5000 [00:41<00:00, 121.86it/s]"
     ]
    },
    {
     "name": "stdout",
     "output_type": "stream",
     "text": [
      "The probabilities of the species of the mother, given the doctor's claim and births: {'Species A': 0.5634, 'Species B': 0.4366}\n"
     ]
    },
    {
     "name": "stderr",
     "output_type": "stream",
     "text": [
      "\n"
     ]
    }
   ],
   "source": [
    "import numpy as np\n",
    "import pandas as pd\n",
    "from unlikely.models import Models, Model\n",
    "from unlikely.priors import Beta\n",
    "from unlikely.engine import abc_smc\n",
    "from unlikely.misc import create_images_from_data\n",
    "\n",
    "def simulate(priors, obs):\n",
    "    genetic_test = np.random.binomial(n=1, p=priors['genetic_test'], size=1)\n",
    "    twin_birth = np.random.binomial(n=1, p=priors['twin_birth'], size=len(obs['twin_birth']))\n",
    "    \n",
    "    return {\n",
    "        'genetic_test': genetic_test,\n",
    "        'twin_birth': twin_birth\n",
    "    }\n",
    "        \n",
    "def distance(x,y):\n",
    "    \"\"\"\n",
    "    Compare the number of ones in one vs. the other.\n",
    "    \"\"\"\n",
    "    \n",
    "    x_list = list(x['genetic_test']) + list(x['twin_birth'])\n",
    "    y_list = list(y['genetic_test']) + list(y['twin_birth'])\n",
    "    \n",
    "    return abs(x['genetic_test'] - y['genetic_test']) \\\n",
    "        + sum(abs(x['twin_birth'] - y['twin_birth']))\n",
    "\n",
    "obs = {\n",
    "    'genetic_test': [1], # Species A\n",
    "    'twin_birth': [1, 0]\n",
    "}\n",
    "\n",
    "np.array([1]) # Doctor claims a species A\n",
    "\n",
    "num_particles = 5000\n",
    "epsilons = [0]\n",
    "\n",
    "models = Models(\n",
    "    [\n",
    "        Model(\n",
    "            name='Species A',\n",
    "            priors=[\n",
    "                Beta(alpha=8000 + 1, beta=2000 + 1, name=\"genetic_test\"),\n",
    "                Beta(alpha=1000 + 1, beta=9000 + 1, name=\"twin_birth\")\n",
    "            ],\n",
    "            simulate=simulate,\n",
    "            prior_model_proba=0.5,\n",
    "        ),\n",
    "\n",
    "        Model(\n",
    "            name='Species B',\n",
    "            priors=[\n",
    "                Beta(alpha=3500 + 1, beta=6500 + 1, name=\"genetic_test\"),\n",
    "                Beta(alpha=2000 + 1, beta=8000 + 1, name=\"twin_birth\")\n",
    "            ],\n",
    "            simulate=simulate,\n",
    "            prior_model_proba=0.5,\n",
    "        )\n",
    "    ]\n",
    ")\n",
    "\n",
    "abc_smc(\n",
    "    num_particles=num_particles,\n",
    "    epsilons=epsilons,\n",
    "    models=models,\n",
    "    obs=obs,\n",
    "    distance=distance,\n",
    ")\n",
    "\n",
    "print(\n",
    "    \"The probabilities of the species of the mother, given the doctor's claim and births: \"\\\n",
    "    + f\"{models.get_posterior_probabilities()}\" \n",
    ")\n"
   ]
  },
  {
   "cell_type": "code",
   "execution_count": null,
   "id": "ec0663c6",
   "metadata": {},
   "outputs": [],
   "source": []
  }
 ],
 "metadata": {
  "kernelspec": {
   "display_name": "Python 3 (ipykernel)",
   "language": "python",
   "name": "python3"
  },
  "language_info": {
   "codemirror_mode": {
    "name": "ipython",
    "version": 3
   },
   "file_extension": ".py",
   "mimetype": "text/x-python",
   "name": "python",
   "nbconvert_exporter": "python",
   "pygments_lexer": "ipython3",
   "version": "3.9.5"
  },
  "toc": {
   "base_numbering": 1,
   "nav_menu": {},
   "number_sections": true,
   "sideBar": true,
   "skip_h1_title": false,
   "title_cell": "Table of Contents",
   "title_sidebar": "Contents",
   "toc_cell": false,
   "toc_position": {},
   "toc_section_display": true,
   "toc_window_display": false
  }
 },
 "nbformat": 4,
 "nbformat_minor": 5
}
