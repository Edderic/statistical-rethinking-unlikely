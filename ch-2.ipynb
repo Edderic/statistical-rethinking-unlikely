{
 "cells": [
  {
   "cell_type": "markdown",
   "id": "5b7cadd6",
   "metadata": {},
   "source": [
    "# Chapter 2"
   ]
  },
  {
   "cell_type": "markdown",
   "id": "2b2dc0cd",
   "metadata": {},
   "source": [
    "## 2E1\n",
    "\n",
    "Which of the expressions below correspond to the statement: the probability of rain on Monday? \n",
    "\n",
    "(1) $Pr(\\text{rain})$  \n",
    "(2) $Pr(\\text{rain|Monday})$  \n",
    "(3) $Pr(\\text{Monday|rain})$  \n",
    "(4) $Pr(\\text{rain, Monday})/ Pr(\\text{Monday})$ "
   ]
  },
  {
   "cell_type": "markdown",
   "id": "3a44e79f",
   "metadata": {},
   "source": [
    "### Ans\n",
    "\n",
    "$$\n",
    "\\frac{Pr(\\text{rain, Monday})}{Pr(\\text{Monday})} = Pr(\\text{rain} \\mid \\text{Monday})\n",
    "$$\n"
   ]
  },
  {
   "cell_type": "markdown",
   "id": "b205a7b8",
   "metadata": {},
   "source": [
    "## 2E2\n",
    "\n",
    "Which of the following statements corresponds to the expression: $Pr(\\text{Monday} \\mid \\text{rain})$? \n",
    "\n",
    "(1) The probability of rain on Monday.  \n",
    "(2) The probability of rain, given that it is Monday.  \n",
    "(3) The probability that it is Monday, given that it is raining.  \n",
    "(4) The probability that it is Monday and that it is raining.  \n"
   ]
  },
  {
   "cell_type": "markdown",
   "id": "0dc417ff",
   "metadata": {},
   "source": [
    "### Ans\n",
    "\n",
    "(3) The probability that it is Monday, given that it is raining."
   ]
  },
  {
   "cell_type": "markdown",
   "id": "ed5e0dc0",
   "metadata": {},
   "source": [
    "## 2E3\n",
    "\n",
    "2E3. Which of the expressions below correspond to the statement: _the probability that it is Monday, given that it is raining_?\n",
    "\n",
    "(1) $Pr(\\text{Monday} \\mid \\text{rain})$\n",
    "\n",
    "(2) $Pr(\\text{rain} \\mid \\text{Monday})$\n",
    "\n",
    "(3) $Pr(\\text{rain} \\mid \\text{Monday}) \\cdot Pr(\\text{Monday})$\n",
    "\n",
    "(4) $Pr(\\text{rain} \\mid \\text{Monday}) \\cdot Pr(\\text{Monday}) / Pr(\\text{rain})$\n",
    "\n",
    "(5) $Pr(\\text{Monday} \\mid \\text{rain}) \\cdot Pr(\\text{rain}) / Pr(\\text{Monday})$"
   ]
  },
  {
   "cell_type": "markdown",
   "id": "88c139a0",
   "metadata": {},
   "source": [
    "### Ans"
   ]
  },
  {
   "cell_type": "markdown",
   "id": "d7f8623a",
   "metadata": {},
   "source": [
    "(1) $Pr(\\text{Monday} \\mid \\text{rain})$\n",
    "\n",
    "(4) \n",
    "$$\n",
    "\\begin{equation}\n",
    "\\begin{aligned}\n",
    "Pr(\\text{rain} \\mid \\text{Monday}) \\cdot Pr(\\text{Monday}) / Pr(\\text{rain}) \n",
    "&= \\frac{Pr(\\text{rain}, \\text{Monday})}{Pr(\\text{rain})} \\\\\n",
    "&= Pr(\\text{Monday} \\mid \\text{rain}) \\\\\n",
    "\\end{aligned}\n",
    "\\end{equation}\n",
    "$$\n"
   ]
  },
  {
   "cell_type": "markdown",
   "id": "4acc1ac1",
   "metadata": {},
   "source": [
    "## 2E4.\n",
    "\n",
    "The Bayesian statistician Bruno de Finetti (1906–1985) began his 1973 book on probability theory with the declaration: “PROBABILITY DOES NOT EXIST.” The capitals appeared in the original,  so I imagine de Finetti wanted us to shout this statement. What he meant is that probability is a device for describing uncertainty from the perspective of an observer with limited knowledge; it has no  objective reality. Discuss the globe tossing example from the chapter, in light of this statement. What  does it mean to say “the probability of water is 0.7”?"
   ]
  },
  {
   "cell_type": "markdown",
   "id": "c7a0953b",
   "metadata": {},
   "source": [
    "### Ans\n",
    "\n",
    "\n",
    "In the case of the globe tossing example, it means that there is some \"true\" proportion of water to land. However, \"truth\"s like thees are usually fully known to us for many reasons (e.g. due to finite sample size, measurement error, unobserved variables, missing data, etc.). We can model our uncertainty using probability theory. Hopefully our model correctly represents truths, such as the \"true\" proportion of water to land. However, that's not guaranteed. When we say \"the probability of water is 0.7,\" colloquially, it means that *we* think that the probability of water is somewhere around 70%, given this point in time. We did not give a lot of significant digits. It might not actually be exactly 0.7, but it is somewhere around there. It still denotes uncertainty of the observer, given what we currently know.\n"
   ]
  },
  {
   "cell_type": "code",
   "execution_count": null,
   "id": "97699589",
   "metadata": {},
   "outputs": [],
   "source": []
  }
 ],
 "metadata": {
  "kernelspec": {
   "display_name": "Python 3 (ipykernel)",
   "language": "python",
   "name": "python3"
  },
  "language_info": {
   "codemirror_mode": {
    "name": "ipython",
    "version": 3
   },
   "file_extension": ".py",
   "mimetype": "text/x-python",
   "name": "python",
   "nbconvert_exporter": "python",
   "pygments_lexer": "ipython3",
   "version": "3.9.5"
  },
  "toc": {
   "base_numbering": 1,
   "nav_menu": {},
   "number_sections": true,
   "sideBar": true,
   "skip_h1_title": false,
   "title_cell": "Table of Contents",
   "title_sidebar": "Contents",
   "toc_cell": false,
   "toc_position": {},
   "toc_section_display": true,
   "toc_window_display": false
  }
 },
 "nbformat": 4,
 "nbformat_minor": 5
}
